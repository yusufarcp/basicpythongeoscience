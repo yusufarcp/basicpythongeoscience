{
 "cells": [
  {
   "cell_type": "markdown",
   "id": "90c9c2d6",
   "metadata": {},
   "source": [
    "<img src=\"https://drive.google.com/file/d/1hLPxSnB-DmBUNkehiubROYusmtVQUHzD/view?usp=sharing\" width=\"300\" height=\"400\" align=\"right\">\n",
    "\n",
    "# Introduction to Python\n",
    "Note book ini adalah panduan untuk mempelajari Python secara umum.\n",
    "- WEEK 1: Instalasi Pycharm, Python, dan Jupyter notebook\n",
    "- WEEK 2: Pengenalan tipe data, dan operasi sederhana\n",
    "- WEEK 3: Pengenalan ***List***, ***Tuple***, ***Set***, ***Dictionary*** dan ***Array***\n",
    "- WEEK 4: Pengenalan If, Else, dan Elif\n",
    "- WEEK 5: Pengenalan iterasi For dan While\n",
    "- WEEK 6: Pengenalan Function dan Class\n",
    "\n",
    "\n",
    "Disusun oleh: \n",
    "- ``Epo Prasetya Kusumah, MSc - SedStrat / Teknik Geologi Universitas Pertamina``\n",
    "- ``Yusuf Arico Pratama,S.T.``\n",
    "- ``Mikhael Amos``"
   ]
  },
  {
   "cell_type": "markdown",
   "id": "99bb67ee",
   "metadata": {},
   "source": [
    "# Function Exercise"
   ]
  },
  {
   "cell_type": "markdown",
   "id": "7780ba05",
   "metadata": {},
   "source": [
    "# 1. Function <a class=\"anchor\" id=\"1\"></a>\n",
    "## 1.1 Deklarasi `function` <a class=\"anchor\" id=\"1.1\"></a>\n",
    "`function` dalam python adalah objek yang berisi *perintah (command)*. Objek tersebut bisa kita buat dan tentunya dijalankan. `function` dapat digunakan untuk mempermudah menggunakan perintah yang dipakai secara rutin.<br>\n",
    "\n",
    "Dalam Python, pembuatan `function` sangat sederhana, function dapat dideklarasikan dengan cara:"
   ]
  },
  {
   "cell_type": "raw",
   "id": "e564fef6",
   "metadata": {},
   "source": [
    "def function (parameter):   -> baris menyatakan deklarasi dari sebuah perintah\n",
    "    commands             -> baris berisi perintah\n",
    "    returns              -> baris berisi luaran dari function"
   ]
  },
  {
   "cell_type": "code",
   "execution_count": 9,
   "id": "70d5d869",
   "metadata": {},
   "outputs": [
    {
     "name": "stdout",
     "output_type": "stream",
     "text": [
      "100\n"
     ]
    }
   ],
   "source": [
    "# contoh pembuatan function:\n",
    "\n",
    "def pangakat_dua (x):  # -> baris menyatakan deklarasi dari sebuah perintah\n",
    "    n = x*x            # -> baris berisi perintah\n",
    "    return n           # -> baris berisi luaran dari function\n",
    "\n",
    "nilai = pangakat_dua(x=10)\n",
    "\n",
    "print(nilai)"
   ]
  },
  {
   "cell_type": "markdown",
   "id": "a004a39c",
   "metadata": {},
   "source": [
    "## 5.2 Function dengan multiple input \n",
    "function dapat juga dapat menerima parameter lebih dari satu.\n",
    "\n",
    "**contoh:**"
   ]
  },
  {
   "cell_type": "code",
   "execution_count": 11,
   "id": "98f4f11b",
   "metadata": {},
   "outputs": [
    {
     "name": "stdout",
     "output_type": "stream",
     "text": [
      "3000\n"
     ]
    }
   ],
   "source": [
    "def luas_persegi(P, L):     #---> paramter input nya P dan L\n",
    "    A = P * L               #---> proses perkalian              \n",
    "    return A                #---> output dari function\n",
    "\n",
    "luas = luas_persegi(P=100, L = 30)\n",
    "print(luas)"
   ]
  },
  {
   "cell_type": "markdown",
   "id": "ddf8fd16",
   "metadata": {},
   "source": [
    "# 5.3 Function dengan nilai Default\n",
    "Nilai default dapat diberikan pada function. Nilai default akan dipakai jika user tidak memberikan parameter input pada saat pemganggilan function. \n",
    "\n",
    "**contoh:**"
   ]
  },
  {
   "cell_type": "code",
   "execution_count": 21,
   "id": "4b031cff",
   "metadata": {},
   "outputs": [
    {
     "name": "stdout",
     "output_type": "stream",
     "text": [
      "nilai P: 100 nilai L: 30 nilai T: 2\n",
      "6000\n",
      "nilai P: 1 nilai L: 1 nilai T: 30\n",
      "30\n",
      "nilai P: 1 nilai L: 20 nilai T: 30\n",
      "600\n",
      "nilai P: 10 nilai L: 20 nilai T: 30\n",
      "6000\n"
     ]
    }
   ],
   "source": [
    "def volume_kubus(P = 10, L = 20, T = 30):     #---> paramter input nya P, L dan T dengan nilai default masing-masing 10\n",
    "    print('nilai P:', P, 'nilai L:', L ,'nilai T:',  T)\n",
    "    V = P * L * T                             #---> proses perkalian              \n",
    "    return V                                  #---> output dari function\n",
    "\n",
    "vol = volume_kubus(P=100, L = 30, T = 2)\n",
    "print(vol)\n",
    "\n",
    "vol = volume_kubus(P=1, L = 1)     # karena nilai T tidak diberikan, maka niali T secara default menjadi 30\n",
    "print(vol)\n",
    "\n",
    "vol = volume_kubus(P=1)           # karena nilai L dan T tidak diberikan, maka niali T secara default menjadi 20, dan 30\n",
    "print(vol)\n",
    "\n",
    "vol = volume_kubus()    # karena nilai P L dan T tidak diberikan, maka niali T secara default menjadi 10, 20, dan 30\n",
    "print(vol)"
   ]
  },
  {
   "cell_type": "markdown",
   "id": "909d28b0",
   "metadata": {},
   "source": [
    "# latihan 1:\n",
    "Buatlah sebuah function untuk grading nilai dengan ketentuan:\n",
    "A>=80\n",
    "B 70 - 80\n",
    "C 60 - 70\n",
    "D 50 - 60\n",
    "E < 50"
   ]
  },
  {
   "cell_type": "code",
   "execution_count": 28,
   "id": "d6354387",
   "metadata": {},
   "outputs": [
    {
     "name": "stdout",
     "output_type": "stream",
     "text": [
      "B\n"
     ]
    }
   ],
   "source": [
    "def nilai(x):\n",
    "    if x>80:\n",
    "        print(\"A\")\n",
    "    elif x>=70 and x<= 80:\n",
    "        print(\"B\")\n",
    "    elif x>=60 and x<= 70:\n",
    "        print(\"C\")\n",
    "    elif x>=50 and x<= 60:\n",
    "        print(\"D\")\n",
    "    else:\n",
    "        print(\"E\")\n",
    "    \n",
    "\n",
    "nilai(70)\n"
   ]
  },
  {
   "cell_type": "markdown",
   "id": "3ad25309",
   "metadata": {},
   "source": [
    "# Latihan 2:\n",
    "\n",
    "Buatlah sebuah function yang berfungsi unutk megnalikan dua buah list dengan output dalam format list dengan ketentuan:\n",
    "- jika kedua list tidak sama panjang maka lakukan printah print('list tidak sama panjang') dan proses perkalian tidak terjadi\n",
    "- Proses pekralian dengan basis baris kali baris, kolom kali kolom\n",
    "\n",
    "```\n",
    "[1,2,3] * [5,6,5]  = [1*5, 2*6, 3*5]\n",
    "\n",
    "[[1,2,3],      [[11, 22, 33],    [[1*11, 2*22, 3*33],\n",
    " [4,5,6],   *   [44, 55, 66],  =  [4*44, 5*55, 6*66],\n",
    " [7,8,9]]       [77, 88, 99]]     [8*77, 8*88, 9*99]]\n",
    "```\n",
    "\n"
   ]
  },
  {
   "cell_type": "code",
   "execution_count": 2,
   "id": "b0dea649",
   "metadata": {},
   "outputs": [],
   "source": [
    "import numpy as np"
   ]
  },
  {
   "cell_type": "code",
   "execution_count": 6,
   "id": "ee31e7d5",
   "metadata": {},
   "outputs": [
    {
     "name": "stdout",
     "output_type": "stream",
     "text": [
      "list tidak sama panjang\n"
     ]
    },
    {
     "ename": "ValueError",
     "evalue": "operands could not be broadcast together with shapes (3,) (4,) ",
     "output_type": "error",
     "traceback": [
      "\u001b[1;31m---------------------------------------------------------------------------\u001b[0m",
      "\u001b[1;31mValueError\u001b[0m                                Traceback (most recent call last)",
      "Input \u001b[1;32mIn [6]\u001b[0m, in \u001b[0;36m<cell line: 11>\u001b[1;34m()\u001b[0m\n\u001b[0;32m      8\u001b[0m list1\u001b[38;5;241m=\u001b[39mnp\u001b[38;5;241m.\u001b[39marray([\u001b[38;5;241m20\u001b[39m,\u001b[38;5;241m30\u001b[39m,\u001b[38;5;241m40\u001b[39m])\n\u001b[0;32m      9\u001b[0m list2\u001b[38;5;241m=\u001b[39mnp\u001b[38;5;241m.\u001b[39marray([\u001b[38;5;241m20\u001b[39m,\u001b[38;5;241m30\u001b[39m,\u001b[38;5;241m40\u001b[39m,\u001b[38;5;241m80\u001b[39m])\n\u001b[1;32m---> 11\u001b[0m \u001b[38;5;28mlist\u001b[39m(\u001b[43mchecker\u001b[49m\u001b[43m(\u001b[49m\u001b[43mlist1\u001b[49m\u001b[43m,\u001b[49m\u001b[43mlist2\u001b[49m\u001b[43m)\u001b[49m)\n",
      "Input \u001b[1;32mIn [6]\u001b[0m, in \u001b[0;36mchecker\u001b[1;34m(x, y)\u001b[0m\n\u001b[0;32m      4\u001b[0m \u001b[38;5;28;01melse\u001b[39;00m:\n\u001b[0;32m      5\u001b[0m     x\u001b[38;5;241m*\u001b[39my\n\u001b[1;32m----> 6\u001b[0m \u001b[38;5;28;01mreturn\u001b[39;00m \u001b[43mx\u001b[49m\u001b[38;5;241;43m*\u001b[39;49m\u001b[43my\u001b[49m\n",
      "\u001b[1;31mValueError\u001b[0m: operands could not be broadcast together with shapes (3,) (4,) "
     ]
    }
   ],
   "source": [
    "def checker(x,y):\n",
    "    if len(x)!=len(y):\n",
    "        print(\"list tidak sama panjang\")\n",
    "    else:\n",
    "        x*y\n",
    "    return x*y\n",
    "\n",
    "list1=np.array([20,30,40])\n",
    "list2=np.array([20,30,40,80])\n",
    "\n",
    "list(checker(list1,list2))"
   ]
  },
  {
   "cell_type": "code",
   "execution_count": 33,
   "id": "5ebc26b8",
   "metadata": {},
   "outputs": [
    {
     "data": {
      "text/plain": [
       "array([[ 11,  44,  99],\n",
       "       [176, 275, 396],\n",
       "       [539, 704, 891]])"
      ]
     },
     "execution_count": 33,
     "metadata": {},
     "output_type": "execute_result"
    }
   ],
   "source": [
    "def matrixx(a,b):\n",
    "    result = a*b\n",
    "    return result\n",
    "\n",
    "\n",
    "a = np.array([[1,2,3],[4,5,6],[7,8,9]])\n",
    "b = np.array([[11,22,33],[44,55,66],[77,88,99]])\n",
    "\n",
    "matrixx(a,b)\n"
   ]
  },
  {
   "cell_type": "markdown",
   "id": "7f51a249",
   "metadata": {},
   "source": [
    "# Class\n",
    "Class adapah python objek yang dapat menyimpan value dalam class attribute dan function secara bersamaan. Berikut adalah inisiasi dari objek class:\n",
    "```\n",
    "class class_name:                          --> inisasi class dengan class statement\n",
    "    def __init__(self, param1, param2):    --> __init__ adalah codeblock yang akan dijalankan ketika class dipanggil\n",
    "        self.val1 = param1                 --> self adalah bagian dari class yang beguna untuk menyimpan nilai (value)\n",
    "        self.val2 = param2                 --> param2 dimasukkan ke dalam val2 dengan metode assignment\n",
    "```\n",
    "\n",
    "**contoh:**\n"
   ]
  },
  {
   "cell_type": "code",
   "execution_count": 2,
   "id": "2a4020a5",
   "metadata": {},
   "outputs": [
    {
     "name": "stdout",
     "output_type": "stream",
     "text": [
      "Nia\n",
      "siapa\n",
      "Nia siapa\n",
      "120212304\n",
      "18\n"
     ]
    }
   ],
   "source": [
    "class data_mahasiswa:\n",
    "    def __init__(self, nama_depan, nama_belakang, nim, umur):\n",
    "        self.First = nama_depan                         #=======> memasukkan parameter kedalam class attribute\n",
    "        self.Last = nama_belakang                       #=======> memasukkan parameter kedalam class attribute\n",
    "        self.Fullname = nama_depan+ ' '+nama_belakang   #=======> memasukkan parameter kedalam class attribute\n",
    "        self.Nim  = nim                                 #=======> memasukkan parameter kedalam class attribute\n",
    "        self.Age  = umur                                #=======> memasukkan parameter kedalam class attribute\n",
    "        \n",
    "mhs = data_mahasiswa('Nia', 'siapa', 120212304, 18)\n",
    "\n",
    "print(mhs.First)              #=======> Memanggil value dalam class\n",
    "print(mhs.Last)               #=======> Memanggil value dalam class\n",
    "print(mhs.Fullname)           #=======> Memanggil value dalam class\n",
    "print(mhs.Nim)\n",
    "print(mhs.Age)                #=======> Memanggil value dalam class"
   ]
  },
  {
   "cell_type": "markdown",
   "id": "cdb5e6bd",
   "metadata": {},
   "source": [
    "# Class Function\n",
    "Selain dapat menyimpan value dalam class attribute, class juga dapat menyimpan function.\n",
    "\n",
    "contoh:\n",
    "\n"
   ]
  },
  {
   "cell_type": "code",
   "execution_count": 46,
   "id": "97516954",
   "metadata": {},
   "outputs": [
    {
     "name": "stdout",
     "output_type": "stream",
     "text": [
      "1 Nia siapa 120212304 18\n",
      "2 9\n",
      "3 Joko siapa 120212304 18\n",
      "4 Joko lagi 120212304 18\n",
      "5 Joko lagi 9999999 18\n"
     ]
    }
   ],
   "source": [
    "class data_mahasiswa:\n",
    "    def __init__(self, nama_depan, nama_belakang, nim, umur):\n",
    "        self.First = nama_depan\n",
    "        self.Last = nama_belakang\n",
    "        self.Fullname = nama_depan+ ' '+nama_belakang\n",
    "        self.Nim  = nim\n",
    "        self.Age  = umur\n",
    "        \n",
    "    def calc_name_length(self):          # function dalam class untuk mencari tahu panjang string pada fullname\n",
    "        return len(self.Fullname)\n",
    "    \n",
    "    def nim_x_umur(self):\n",
    "        return self.Nim * self.Age\n",
    "    \n",
    "    def update_first(self, new_first):  # function dalam class dengan parameter baru, dan nilai nya disimpan dalam class atttribute\n",
    "        self.First = new_first\n",
    "        self.Fullname = new_first + ' ' + self.Last\n",
    "        \n",
    "    def update_last(self, new_last):   # function dalam class dengan parameter baru, dan nilai nya disimpan dalam class atttribute\n",
    "        self.Last = new_last\n",
    "        self.Fullname = self.First + ' ' + new_last\n",
    "        \n",
    "    def update_nim(self, new_nim):     # function dalam class dengan parameter baru, dan nilai nya disimpan dalam class atttribute\n",
    "        self.Nim = new_nim\n",
    "\n",
    "mhs = data_mahasiswa('Nia', 'siapa', 120212304, 18)\n",
    "\n",
    "print(1, mhs.Fullname, mhs.Nim, mhs.Age)\n",
    "\n",
    "print(2, mhs.calc_name_length())\n",
    "\n",
    "mhs.update_first('Joko')\n",
    "print(3, mhs.Fullname, mhs.Nim, mhs.Age)\n",
    "\n",
    "\n",
    "mhs.update_last('lagi')\n",
    "print(4, mhs.Fullname, mhs.Nim, mhs.Age)\n",
    "\n",
    "mhs.update_nim(9999999)\n",
    "print(5, mhs.Fullname, mhs.Nim, mhs.Age)\n"
   ]
  },
  {
   "cell_type": "markdown",
   "id": "42afd76e",
   "metadata": {},
   "source": [
    "## Latihan Class\n",
    "\n",
    "Buatlah class python objek object:\n",
    "- inputnya adalah list\n",
    "- list input disimpan dalam attribut data\n",
    "- buatlah function yang mengubah list menjadi kombinasi pasangan unik diantar elemetn pada list nya\n",
    "\n",
    "contoh berjalannya class:\n",
    "```\n",
    "test = pairing([2,1,4,1])\n",
    "test.data\n",
    ">>> [2,1,4,5]\n",
    "test.pair_unique()\n",
    ">>> [2,2] ,[2,1], [2,4], [1,2], [1,1], [1,4], [4,2], [4,1], [4,4]]\n",
    "\n",
    "```"
   ]
  },
  {
   "cell_type": "code",
   "execution_count": null,
   "id": "c40c2da0",
   "metadata": {},
   "outputs": [],
   "source": [
    "###your code HERE####\n",
    "\n",
    "\n",
    "\n",
    "\n"
   ]
  }
 ],
 "metadata": {
  "kernelspec": {
   "display_name": "py38",
   "language": "python",
   "name": "py38"
  },
  "language_info": {
   "codemirror_mode": {
    "name": "ipython",
    "version": 3
   },
   "file_extension": ".py",
   "mimetype": "text/x-python",
   "name": "python",
   "nbconvert_exporter": "python",
   "pygments_lexer": "ipython3",
   "version": "3.10.0"
  }
 },
 "nbformat": 4,
 "nbformat_minor": 5
}
