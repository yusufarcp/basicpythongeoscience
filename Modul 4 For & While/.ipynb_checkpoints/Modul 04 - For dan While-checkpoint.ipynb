{
 "cells": [
  {
   "cell_type": "markdown",
   "metadata": {},
   "source": [
    "<img src=\"https://drive.google.com/file/d/1hLPxSnB-DmBUNkehiubROYusmtVQUHzD/view?usp=sharing\" width=\"300\" height=\"400\" align=\"right\">\n",
    "\n",
    "# Introduction to Python\n",
    "Note book ini adalah panduan untuk mempelajari Python secara umum.\n",
    "- WEEK 1: Instalasi Pycharm, Python, dan Jupyter notebook\n",
    "- WEEK 2: Pengenalan tipe data, dan operasi sederhana\n",
    "- WEEK 3: Pengenalan ***List***, ***Tuple***, ***Set***, ***Dictionary*** dan ***Array***\n",
    "- WEEK 4: Pengenalan If, Else, dan Elif\n",
    "- WEEK 5: Pengenalan iterasi For dan While\n",
    "\n",
    "\n",
    "Disusun oleh: \n",
    "- ``Epo Prasetya Kusumah, MSc - SedStrat / Teknik Geologi Universitas Pertamina``\n",
    "- ``Yusuf Arico Pratama,S.T.``\n",
    "- ``Mikhael Amos``"
   ]
  },
  {
   "cell_type": "markdown",
   "metadata": {},
   "source": [
    "***"
   ]
  },
  {
   "cell_type": "code",
   "execution_count": null,
   "metadata": {},
   "outputs": [],
   "source": [
    "nama = None\n",
    "nim = None"
   ]
  },
  {
   "cell_type": "markdown",
   "metadata": {},
   "source": [
    "# Week 5 : Pengenalan iterasi For dan While\n",
    "## Daftar Isi:\n",
    "- [1 Looping dengan menggunakan ``for ...``](#1)\n",
    "\t- [1.1 Penggunaan ``for ...``](#1.1)\n",
    "\t- [1.2 Nested ``for ...``](#1.2)\n",
    "- [2. Looping dengan menggunakan ``while...``](#2)\n",
    "\t- [2.1 Penggunaan ``while ...``](#2.1)\n",
    "\t- [2.2 Nested ``while...``](#2.2)\n",
    "- [3. Flow Control berupa ``break`` dan ``continue``](#3)"
   ]
  },
  {
   "cell_type": "markdown",
   "metadata": {},
   "source": [
    "***"
   ]
  },
  {
   "cell_type": "markdown",
   "metadata": {},
   "source": [
    "# 1. Looping dengan menggunakan ``for ...`` <a class=\"anchor\" id=\"1\"></a>\n",
    "## 1.1 Penggunaan `for ...` <a class=\"anchor\" id=\"1.1\"></a>\n",
    "\n",
    "Hampir sama dengan `while ...`, `for ...` digunakan juga untuk proses iterasi. \n",
    "- Perbedaannya terletak pada objek yang diiterasikan. \n",
    "    - `while ...` menggunakan conditional, \n",
    "    -  `for ...` menggunakan data container sebagai objek iterasi. <br>\n",
    "    \n",
    "Syntax yang digunakan untuk menggunakan iterasi dengan `for ...` adalah:"
   ]
  },
  {
   "cell_type": "markdown",
   "metadata": {},
   "source": [
    "for (iterator) in (container):\n",
    "    (commands)"
   ]
  },
  {
   "cell_type": "markdown",
   "metadata": {},
   "source": [
    "contoh penggunaan `for ...`:"
   ]
  },
  {
   "cell_type": "code",
   "execution_count": 4,
   "metadata": {},
   "outputs": [
    {
     "name": "stdout",
     "output_type": "stream",
     "text": [
      "nilai i + 5 =  5\n",
      "nilai i + 5 =  7\n",
      "nilai i + 5 =  8\n",
      "nilai i + 5 =  7\n",
      "nilai i + 5 =  6\n"
     ]
    }
   ],
   "source": [
    "data = [0,2,3,2,1]\n",
    "\n",
    "for i in data:\n",
    "    print('nilai i + 5 = ', i+5)\n",
    "    "
   ]
  },
  {
   "cell_type": "code",
   "execution_count": 3,
   "metadata": {},
   "outputs": [
    {
     "name": "stdout",
     "output_type": "stream",
     "text": [
      "Mercury Venus Earth Mars Jupiter Saturn Uranus Neptune "
     ]
    }
   ],
   "source": [
    "planets = ['Mercury', 'Venus', 'Earth', 'Mars', 'Jupiter', 'Saturn', 'Uranus', 'Neptune']\n",
    "for planet in planets:\n",
    "    print(planet, end=' ') # print all on same line"
   ]
  },
  {
   "cell_type": "code",
   "execution_count": 7,
   "metadata": {},
   "outputs": [
    {
     "name": "stdout",
     "output_type": "stream",
     "text": [
      "nama planet: Mercury\n",
      "nama planet: Venus\n",
      "nama planet: Earth\n",
      "nama planet: Mars\n",
      "nama planet: Jupiter\n",
      "nama planet: Saturn\n",
      "nama planet: Uranus\n",
      "nama planet: Neptune\n"
     ]
    }
   ],
   "source": [
    "planets = ['Mercury', 'Venus', 'Earth', 'Mars', 'Jupiter', 'Saturn', 'Uranus', 'Neptune']\n",
    "for planet in planets:\n",
    "    print('nama planet:', planet)"
   ]
  },
  {
   "cell_type": "code",
   "execution_count": 8,
   "metadata": {},
   "outputs": [],
   "source": [
    "import numpy as np"
   ]
  },
  {
   "cell_type": "code",
   "execution_count": 16,
   "metadata": {},
   "outputs": [
    {
     "data": {
      "text/plain": [
       "array([0, 1, 2, 3, 4, 5, 6, 7, 8, 9])"
      ]
     },
     "execution_count": 16,
     "metadata": {},
     "output_type": "execute_result"
    }
   ],
   "source": [
    "data1 = np.arange(10)\n",
    "data1"
   ]
  },
  {
   "cell_type": "code",
   "execution_count": 17,
   "metadata": {},
   "outputs": [
    {
     "data": {
      "text/plain": [
       "10"
      ]
     },
     "execution_count": 17,
     "metadata": {},
     "output_type": "execute_result"
    }
   ],
   "source": [
    "len(data1)"
   ]
  },
  {
   "cell_type": "code",
   "execution_count": 18,
   "metadata": {},
   "outputs": [
    {
     "data": {
      "text/plain": [
       "array([0, 1, 2, 3, 4, 5, 6, 7, 8, 9])"
      ]
     },
     "execution_count": 18,
     "metadata": {},
     "output_type": "execute_result"
    }
   ],
   "source": [
    "np.arange(len(data1))"
   ]
  },
  {
   "cell_type": "code",
   "execution_count": 20,
   "metadata": {},
   "outputs": [
    {
     "name": "stdout",
     "output_type": "stream",
     "text": [
      "0\n",
      "1\n",
      "2\n",
      "3\n",
      "4\n",
      "5\n",
      "6\n",
      "7\n",
      "8\n",
      "9\n"
     ]
    }
   ],
   "source": [
    "for i in np.arange(len(data1)):\n",
    "    print(data1[i])"
   ]
  },
  {
   "cell_type": "code",
   "execution_count": null,
   "metadata": {},
   "outputs": [],
   "source": [
    "#timer countdown\n",
    "for i in range(10,0,-1):\n",
    "    print('Pesawat akan take-off dalam waktu',i,'s')\n",
    "print('Whooossh!!!')"
   ]
  },
  {
   "cell_type": "markdown",
   "metadata": {},
   "source": [
    "## Looping `for ...` in Dictionary"
   ]
  },
  {
   "cell_type": "code",
   "execution_count": 13,
   "metadata": {},
   "outputs": [],
   "source": [
    "dict2 = {'no': [1,2,3,4,5,6,7],\n",
    "         'nim': [1001, 1002, 1003, 1004, 1005, 1009, 1010],\n",
    "         'nama': ['sari', 'ani', 'laras', 'dicky', 'ari', 'rani', 'agus'],\n",
    "         'nilai': [85, 65, 87, 95, 75, 60, 80]}"
   ]
  },
  {
   "cell_type": "code",
   "execution_count": 14,
   "metadata": {
    "scrolled": true
   },
   "outputs": [
    {
     "name": "stdout",
     "output_type": "stream",
     "text": [
      "nim:  1001     nama:  sari     nilai:  85\n",
      "nim:  1002     nama:  ani     nilai:  65\n",
      "nim:  1003     nama:  laras     nilai:  87\n",
      "nim:  1004     nama:  dicky     nilai:  95\n",
      "nim:  1005     nama:  ari     nilai:  75\n",
      "nim:  1009     nama:  rani     nilai:  60\n",
      "nim:  1010     nama:  agus     nilai:  80\n"
     ]
    }
   ],
   "source": [
    "for i in np.arange(7):\n",
    "    print('nim: ',dict2['nim'][i], '    nama: ', dict2['nama'][i], '    nilai: ', dict2['nilai'][i])"
   ]
  },
  {
   "cell_type": "code",
   "execution_count": 60,
   "metadata": {},
   "outputs": [
    {
     "name": "stdout",
     "output_type": "stream",
     "text": [
      "2: panda\n",
      "5: kuda\n",
      "4: ikan\n",
      "6: kecoa\n",
      "7: nyamuk\n"
     ]
    }
   ],
   "source": [
    "Lst = [2,5,4,6,7]\n",
    "hewan = ['panda', 'kuda', 'ikan', 'kecoa', 'nyamuk']\n",
    "\n",
    "dictiona = {'Lst': [2,5,4,6,7],\n",
    "         'hewan':['panda', 'kuda', 'ikan', 'kecoa', 'nyamuk']}\n",
    "\n",
    "for i in np.arange(5):\n",
    "    print(str(dictiona['Lst'][i])+': '+str(dictiona['hewan'][i]))"
   ]
  },
  {
   "cell_type": "markdown",
   "metadata": {},
   "source": [
    "## Fungsi enumerate()\n",
    "Di python ada sebuah fungsi bawaan yang bernama enumerate(). Enumerate() memungkinkan kita untuk melakukan loop terhadap suatu object semacam list disertai dengan pengambilan index dari setiap elemennya. Contohnya seperti berikut :"
   ]
  },
  {
   "cell_type": "code",
   "execution_count": 21,
   "metadata": {},
   "outputs": [
    {
     "data": {
      "text/plain": [
       "[0, 2, 3, 2, 1]"
      ]
     },
     "execution_count": 21,
     "metadata": {},
     "output_type": "execute_result"
    }
   ],
   "source": [
    "data"
   ]
  },
  {
   "cell_type": "code",
   "execution_count": 15,
   "metadata": {},
   "outputs": [
    {
     "name": "stdout",
     "output_type": "stream",
     "text": [
      "0 0\n",
      "1 2\n",
      "2 3\n",
      "3 2\n",
      "4 1\n"
     ]
    }
   ],
   "source": [
    "for i,j in enumerate(data):\n",
    "    print (i, j)"
   ]
  },
  {
   "cell_type": "code",
   "execution_count": 22,
   "metadata": {
    "scrolled": true
   },
   "outputs": [
    {
     "name": "stdout",
     "output_type": "stream",
     "text": [
      "room0: 11.25\n",
      "room1: 18.0\n",
      "room2: 20.0\n",
      "room3: 10.75\n",
      "room4: 9.5\n"
     ]
    }
   ],
   "source": [
    "areas = [11.25, 18.0, 20.0, 10.75, 9.50] #luas area untuk beberapa jenis kamar\n",
    "\n",
    "# Change for loop to use enumerate() and update print()\n",
    "for index,area in enumerate(areas) :\n",
    "    print(\"room\"+str(index)+\": \"+str(area))"
   ]
  },
  {
   "cell_type": "markdown",
   "metadata": {},
   "source": [
    "## Fungsi range(), \n",
    "range() adalah suatu fungsi yang menghasilkan suatu baris nilai."
   ]
  },
  {
   "cell_type": "code",
   "execution_count": 24,
   "metadata": {},
   "outputs": [
    {
     "name": "stdout",
     "output_type": "stream",
     "text": [
      "ini adalah hasil untuk index = 0\n",
      "ini adalah hasil untuk index = 1\n",
      "ini adalah hasil untuk index = 2\n",
      "ini adalah hasil untuk index = 3\n",
      "ini adalah hasil untuk index = 4\n"
     ]
    }
   ],
   "source": [
    "for i in range(5):\n",
    "    print(\"ini adalah hasil untuk index =\", i)"
   ]
  },
  {
   "cell_type": "markdown",
   "metadata": {},
   "source": [
    "## 1.2 Nested `for ...` <a class=\"anchor\" id=\"1.2\"></a>\n",
    "Sama hal nya dengan `while ...`, perintah `for ...` juga dapat menggunakan *nested iteration*. Dengan syntax sebagai berikut:\n"
   ]
  },
  {
   "cell_type": "markdown",
   "metadata": {},
   "source": [
    "for (conditions1):\n",
    "    for (condition2):\n",
    "        (command)"
   ]
  },
  {
   "cell_type": "markdown",
   "metadata": {},
   "source": [
    "contoh penggunaan `for ...` nested:"
   ]
  },
  {
   "cell_type": "code",
   "execution_count": 2,
   "metadata": {},
   "outputs": [
    {
     "name": "stdout",
     "output_type": "stream",
     "text": [
      "ayam 1\n",
      "ayam 2\n",
      "ayam 3\n",
      "kucing 1\n",
      "kucing 2\n",
      "kucing 3\n",
      "anjing 1\n",
      "anjing 2\n",
      "anjing 3\n"
     ]
    }
   ],
   "source": [
    "hewan = ['ayam', 'kucing', 'anjing']\n",
    "nomor = [1, 2, 3]\n",
    "\n",
    "for i in hewan:\n",
    "    for j in nomor:\n",
    "        print(i, j)"
   ]
  },
  {
   "cell_type": "code",
   "execution_count": 28,
   "metadata": {},
   "outputs": [
    {
     "name": "stdout",
     "output_type": "stream",
     "text": [
      "1\n",
      "2\n",
      "4\n",
      "3\n",
      "2\n",
      "1\n",
      "5 tidak memenuhi syarat\n",
      "nila i terakhir: 5\n"
     ]
    }
   ],
   "source": [
    "a = [1,2,4,3,2,1,5,3,4,2,8,9,10]\n",
    "\n",
    "for i in a:\n",
    "    if i<5 :\n",
    "        print(i)\n",
    "    else:\n",
    "        print(i, 'tidak memenuhi syarat')\n",
    "        break\n",
    "        \n",
    "print('nila i terakhir:', i)"
   ]
  },
  {
   "cell_type": "markdown",
   "metadata": {},
   "source": [
    "# Tugas 1\n",
    "Membuat sand timer glass pakai python menggunakan `For...` atau `Nested For...`\n",
    "\n",
    "**Hasil**\n",
    "\n",
    "     ***************\n",
    "      *************\n",
    "       ***********\n",
    "        *********\n",
    "         *******\n",
    "          *****\n",
    "           ***\n",
    "            *\n",
    "           ***\n",
    "          *****\n",
    "         *******\n",
    "        *********\n",
    "       ***********\n",
    "      *************\n",
    "     ***************"
   ]
  },
  {
   "cell_type": "code",
   "execution_count": 75,
   "metadata": {},
   "outputs": [
    {
     "name": "stdout",
     "output_type": "stream",
     "text": [
      "Generated Hourglass Pattern is: \n",
      "***************\n",
      " *************\n",
      "  ***********\n",
      "   *********\n",
      "    *******\n",
      "     *****\n",
      "      ***\n",
      "       *\n",
      "      ***\n",
      "     *****\n",
      "    *******\n",
      "   *********\n",
      "  ***********\n",
      " *************\n",
      "***************\n"
     ]
    }
   ],
   "source": [
    "# Hourglass pattern in Python\n",
    "\n",
    "# Reading number of rows\n",
    "row = 8\n",
    "\n",
    "print(\"Generated Hourglass Pattern is: \")\n",
    "# Upper-half\n",
    "for i in range(row, 0, -1):\n",
    "    for j in range(row-i):\n",
    "        print(\" \", end=\"\")\n",
    "    for j in range(1, 2*i):\n",
    "        print(\"*\", end=\"\")\n",
    "    print()\n",
    "\n",
    "# Lower-half\n",
    "for i in range(2, row+1):\n",
    "    for j in range(row-i):\n",
    "        print(\" \", end=\"\")\n",
    "    for j in range(1, 2*i):\n",
    "        print(\"*\", end=\"\")\n",
    "    print()"
   ]
  },
  {
   "cell_type": "markdown",
   "metadata": {},
   "source": [
    "# 2. Looping dengan menggunakan ``while...`` <a class=\"anchor\" id=\"2\"></a>\n",
    "## 2.1 Penggunaan ``while ...`` <a class=\"anchor\" id=\"2.1\"></a>\n",
    "perintah ``while`` digunakan untuk mengulang peritnah selama perintah syarat terpenuhi, berbeda dengan ``if..`` yang akan menjalankan perintah satukali setelah persyaraten terpenuhi.\n",
    "\n",
    "Secara harfiah, peritnah ``while`` dapat terdiri atas:<br>\n",
    "Contoh sytax while:"
   ]
  },
  {
   "cell_type": "raw",
   "metadata": {},
   "source": [
    "While (conditions):\n",
    "    (command1)\n",
    "else:\n",
    "    (command2)"
   ]
  },
  {
   "cell_type": "code",
   "execution_count": 29,
   "metadata": {},
   "outputs": [],
   "source": [
    "dict1 = {'nama': ['sania', 'ghaizain', 'yan', 'yusuf', 'ato', 'salim', 'fahri'],\n",
    "         'uang': [100000, 50000, 20000, 100000, 50000, 50000, 20000]\n",
    "        }"
   ]
  },
  {
   "cell_type": "code",
   "execution_count": 30,
   "metadata": {
    "scrolled": true
   },
   "outputs": [
    {
     "data": {
      "text/plain": [
       "7"
      ]
     },
     "execution_count": 30,
     "metadata": {},
     "output_type": "execute_result"
    }
   ],
   "source": [
    "len(dict1['uang'])"
   ]
  },
  {
   "cell_type": "code",
   "execution_count": 31,
   "metadata": {},
   "outputs": [
    {
     "name": "stdout",
     "output_type": "stream",
     "text": [
      "jumlah akhir: 100000 milik: sania  uangnya: 100000\n",
      "jumlah akhir: 150000 milik: ghaizain  uangnya: 50000\n",
      "jumlah akhir: 170000 milik: yan  uangnya: 20000\n",
      "jumlah akhir: 270000 milik: yusuf  uangnya: 100000\n",
      "jumlah akhir: 320000 milik: ato  uangnya: 50000\n",
      "jumlah akhir: 370000 milik: salim  uangnya: 50000\n",
      "jumlah akhir: 390000 milik: fahri  uangnya: 20000\n"
     ]
    }
   ],
   "source": [
    "\n",
    "jumlah = 0\n",
    "\n",
    "i = 0\n",
    "while i < len(dict1['uang']):\n",
    "    jumlah = jumlah + dict1[\"uang\"][i]\n",
    "    print (\"jumlah akhir:\", jumlah, \n",
    "           \"milik:\",dict1[\"nama\"][i],\n",
    "           \" uangnya:\", dict1[\"uang\"][i])\n",
    "    i = i+1"
   ]
  },
  {
   "cell_type": "code",
   "execution_count": 32,
   "metadata": {},
   "outputs": [],
   "source": [
    "dict2 = {'no': [1,2,3,4,5,6,7],\n",
    "         'nim': [1001, 1002, 1003, 1004, 1005, 1009, 1010],\n",
    "         'nama': ['sari', 'ani', 'laras', 'dicky', 'ari', 'rani', 'agus'],\n",
    "         'nilai': [85, 65, 87, 95, 75, 60, 80]}"
   ]
  },
  {
   "cell_type": "code",
   "execution_count": 33,
   "metadata": {},
   "outputs": [
    {
     "name": "stdout",
     "output_type": "stream",
     "text": [
      "nama:  sari nim:  1001 nilai:  85\n",
      "nama:  ani nim:  1002 nilai:  65\n",
      "nama:  laras nim:  1003 nilai:  87\n",
      "nama:  dicky nim:  1004 nilai:  95\n",
      "nama:  ari nim:  1005 nilai:  75\n",
      "nama:  rani nim:  1009 nilai:  60\n",
      "nama:  agus nim:  1010 nilai:  80\n"
     ]
    }
   ],
   "source": [
    "rata2= 0\n",
    "\n",
    "i = 0\n",
    "while i< len(dict2['nilai']):\n",
    "    print('nama: ', dict2['nama'][i], \n",
    "          'nim: ', dict2['nim'][i], \n",
    "          'nilai: ', dict2['nilai'][i])\n",
    "    \n",
    "    i = i+1"
   ]
  },
  {
   "cell_type": "code",
   "execution_count": null,
   "metadata": {},
   "outputs": [],
   "source": [
    "i = 2\n",
    "\n",
    "while i < 5:\n",
    "    print ('tok', i)\n",
    "    i = i + 3\n",
    "\n",
    "else:\n",
    "    print('done')"
   ]
  },
  {
   "cell_type": "markdown",
   "metadata": {},
   "source": [
    "## 2.2 Nested ``while...`` <a class=\"anchor\" id=\"2.2\"></a>\n",
    "nested while adalah penggunaan ``while..`` dalam ``while..``.\n",
    "Contoh penggunaan nested ``while..`` adalah:"
   ]
  },
  {
   "cell_type": "raw",
   "metadata": {},
   "source": [
    "while (conditions1):\n",
    "    while (condition2):\n",
    "        (command)"
   ]
  },
  {
   "cell_type": "code",
   "execution_count": null,
   "metadata": {},
   "outputs": [],
   "source": [
    "i = 0\n",
    "j = 0\n",
    "\n",
    "while i < 5:\n",
    "    while j <= 3:\n",
    "        print ('ini i: ', i, 'dan ini j:',j)\n",
    "        j = j + 1\n",
    "    j = 0\n",
    "    i = i+1\n"
   ]
  },
  {
   "cell_type": "code",
   "execution_count": 68,
   "metadata": {},
   "outputs": [
    {
     "name": "stdout",
     "output_type": "stream",
     "text": [
      "Bom akan meledak dalam waktu:  10 s\n",
      "Bom akan meledak dalam waktu:  9 s\n",
      "Bom akan meledak dalam waktu:  8 s\n",
      "Bom akan meledak dalam waktu:  7 s\n",
      "Bom akan meledak dalam waktu:  6 s\n",
      "Bom akan meledak dalam waktu:  5 s\n",
      "Bom akan meledak dalam waktu:  4 s\n",
      "Bom akan meledak dalam waktu:  3 s\n",
      "Bom akan meledak dalam waktu:  2 s\n",
      "Bom akan meledak dalam waktu:  1 s\n",
      "BooM!!!\n"
     ]
    }
   ],
   "source": [
    "# Membuat timer countdown\n",
    "i=10\n",
    "while i >0:\n",
    "    \n",
    "    print('Bom akan meledak dalam waktu: ',i,'s')\n",
    "    i=i-1\n",
    "print('BooM!!!')"
   ]
  },
  {
   "cell_type": "code",
   "execution_count": 69,
   "metadata": {},
   "outputs": [
    {
     "name": "stdout",
     "output_type": "stream",
     "text": [
      "ini adalah iterasi ke:  13\n",
      "ini adalah iterasi ke:  12\n",
      "oh ini ada 12\n",
      "ini adalah iterasi ke:  11\n"
     ]
    }
   ],
   "source": [
    "i = 13\n",
    "while i > 10:\n",
    "    print ('ini adalah iterasi ke: ',i)\n",
    "    if i == 12:\n",
    "        print ('oh ini ada 12')\n",
    "    i = i - 1"
   ]
  },
  {
   "cell_type": "raw",
   "metadata": {},
   "source": [
    "**jawaban:**\n",
    "\n",
    "\n",
    "\n",
    "\n"
   ]
  },
  {
   "cell_type": "markdown",
   "metadata": {},
   "source": [
    "# Tugas 2\n",
    "Membuat sand timer glass pakai python menggunakan `while`\n",
    "\n",
    "**Hasil**\n",
    "\n",
    "    * * * * * * * \n",
    "     * * * * * * \n",
    "      * * * * * \n",
    "       * * * * \n",
    "        * * * \n",
    "         * * \n",
    "          * \n",
    "         * * \n",
    "        * * * \n",
    "       * * * * \n",
    "      * * * * * \n",
    "     * * * * * * \n",
    "    * * * * * * *"
   ]
  },
  {
   "cell_type": "code",
   "execution_count": 76,
   "metadata": {},
   "outputs": [
    {
     "name": "stdout",
     "output_type": "stream",
     "text": [
      "Generated Hourglass Pattern is: \n",
      "* * * * * * * \n",
      " * * * * * * \n",
      "  * * * * * \n",
      "   * * * * \n",
      "    * * * \n",
      "     * * \n",
      "      * \n",
      "     * * \n",
      "    * * * \n",
      "   * * * * \n",
      "  * * * * * \n",
      " * * * * * * \n",
      "* * * * * * * \n"
     ]
    }
   ],
   "source": [
    "n = 7\n",
    "print(\"Generated Hourglass Pattern is: \")\n",
    "# print upper triangle\n",
    "i = n\n",
    "while i>1:\n",
    "    # printing stars\n",
    "    print(\" \"*(n-i) + \"* \" * i)\n",
    "    i-=1\n",
    "\n",
    "# print lower triangle\n",
    "i = 1\n",
    "while i<=n:\n",
    "    # printing stars\n",
    "    print(\" \"*(n-i) + \"* \" * i)\n",
    "    i+=1"
   ]
  },
  {
   "cell_type": "markdown",
   "metadata": {},
   "source": [
    "# 3. Flow Control berupa ``break`` dan ``continue`` <a class=\"anchor\" id=\"3\"></a>\n",
    "Flow control berupa ``break`` dan ``continue`` dapat digunakan dalam ``if...``, ``while...``, dan ``for...``.\n",
    "- flow control ``break`` berfungsi untuk **menghentikan iterasi (looping)**  secara keseluruhan.\n",
    "\n",
    "- flow control ``continue`` berfungsi untuk **menghentikan iterasi (looping)** yang sedang dijalankan, lalu **melanjutkan ke iterasi selanjutnya.**"
   ]
  },
  {
   "cell_type": "raw",
   "metadata": {},
   "source": [
    "for ........:\n",
    "    command\n",
    "    \n",
    "    if ........:\n",
    "        break"
   ]
  },
  {
   "cell_type": "raw",
   "metadata": {},
   "source": [
    "for ........:\n",
    "    command\n",
    "    \n",
    "    if ........:\n",
    "        continue\n",
    "        \n",
    "    command\n",
    "    "
   ]
  },
  {
   "cell_type": "code",
   "execution_count": null,
   "metadata": {},
   "outputs": [],
   "source": [
    "# contoh penggunaan break\n",
    "i = 22\n",
    "\n",
    "while i <= 50:\n",
    "    i = i + 1\n",
    "    \n",
    "    if i == 30:\n",
    "        break\n",
    "    print ('tok', i)\n",
    "\n"
   ]
  },
  {
   "cell_type": "code",
   "execution_count": null,
   "metadata": {},
   "outputs": [],
   "source": [
    "# contoh penggunaan continue\n",
    "i = 45\n",
    "\n",
    "while i <= 50:\n",
    "    i = i + 1\n",
    "    if i == 30:\n",
    "        continue\n",
    "    print ('tok', i)\n",
    "\n",
    "\n"
   ]
  },
  {
   "cell_type": "code",
   "execution_count": null,
   "metadata": {},
   "outputs": [],
   "source": [
    "i = 10\n",
    "\n",
    "while i > -1:\n",
    "    try:\n",
    "        print (10/i, i)\n",
    "    except:\n",
    "        print('i = 0')\n",
    "    \n",
    "    i = i-1"
   ]
  },
  {
   "cell_type": "markdown",
   "metadata": {},
   "source": [
    "***"
   ]
  },
  {
   "cell_type": "markdown",
   "metadata": {},
   "source": [
    "# Tugas 3\n",
    "Koversi dari list:\n",
    "\n",
    "Lst1 = [1,2,5,6,7]\n",
    "\n",
    "hewan = [kucing, belalang, gajah, singa, onta]\n",
    "\n",
    "menjadi sebuah dictionary menggunakan `For...` atau `Nested for...` dengan `break`\n",
    "\n",
    "HASIL --> **Kamus Hewan = {1: 'kucing', 2: 'belalang', 5: 'gajah'... dst)}**\n",
    "\n"
   ]
  },
  {
   "cell_type": "code",
   "execution_count": 1,
   "metadata": {},
   "outputs": [],
   "source": [
    "# Data\n",
    "Lst1 = [1,2,5,6,7]\n",
    "hewan = ['kucing', 'belalang', 'gajah', 'singa', 'onta']"
   ]
  },
  {
   "cell_type": "markdown",
   "metadata": {},
   "source": [
    "### JAWABAN VER 1"
   ]
  },
  {
   "cell_type": "code",
   "execution_count": 6,
   "metadata": {},
   "outputs": [
    {
     "name": "stdout",
     "output_type": "stream",
     "text": [
      "Kamus Hewan = {1: 'kucing', 2: 'belalang', 5: 'gajah', 6: 'singa', 7: 'onta'}\n"
     ]
    }
   ],
   "source": [
    "# *** Jawaban ***\n",
    "# JAWABAN VER 1\n",
    "dictionary={}\n",
    "for i in range(len(Lst1)):\n",
    "    dictionary[Lst1[i]]=hewan[i]\n",
    "print('Kamus Hewan =', dictionary)\n",
    "\n",
    "\n",
    "\n"
   ]
  },
  {
   "cell_type": "code",
   "execution_count": 43,
   "metadata": {},
   "outputs": [
    {
     "name": "stdout",
     "output_type": "stream",
     "text": [
      "1: kucing\n",
      "2: belalang\n",
      "5: gajah\n",
      "6: singa\n",
      "7: onta\n"
     ]
    }
   ],
   "source": [
    "dict3 = {'Lst1': [1,2,5,6,7],\n",
    "         'hewan':['kucing', 'belalang', 'gajah', 'singa', 'onta']}\n",
    "\n",
    "for i in np.arange(5):\n",
    "    print(str(dict3['Lst1'][i])+': '+str(dict3['hewan'][i]))"
   ]
  },
  {
   "cell_type": "markdown",
   "metadata": {},
   "source": [
    "### JAWABAN VER 2"
   ]
  },
  {
   "cell_type": "code",
   "execution_count": 52,
   "metadata": {},
   "outputs": [
    {
     "name": "stdout",
     "output_type": "stream",
     "text": [
      "kamus hewan = {1: 'kucing', 2: 'belalang', 5: 'gajah', 6: 'singa', 7: 'onta'}\n"
     ]
    }
   ],
   "source": [
    "Lst1 = [1,2,5,6,7]\n",
    "hewan = ['kucing', 'belalang', 'gajah', 'singa', 'onta']\n",
    "dict4 = {}\n",
    "for i in Lst1:\n",
    "    for j in hewan:\n",
    "        dict4[i]=j\n",
    "        hewan.remove(j)\n",
    "        break\n",
    "print('kamus hewan =',dict4)"
   ]
  },
  {
   "cell_type": "markdown",
   "metadata": {},
   "source": [
    "### JAWABAN VER 3"
   ]
  },
  {
   "cell_type": "code",
   "execution_count": 62,
   "metadata": {},
   "outputs": [
    {
     "name": "stdout",
     "output_type": "stream",
     "text": [
      "kamus hewan = {1: 'ayam', 2: 'kucing', 3: 'sapi', 4: 'bebek', 5: 'kerbau'}\n"
     ]
    }
   ],
   "source": [
    "Lst=[1,2,3,4,5]\n",
    "hewan=[\"ayam\",\"kucing\",\"sapi\",\"bebek\",\"kerbau\"]\n",
    "dictionary={}\n",
    "for i in range(len(Lst)):\n",
    "    dictionary[Lst[i]]=hewan[i]\n",
    "print('kamus hewan =', dictionary)"
   ]
  },
  {
   "cell_type": "markdown",
   "metadata": {},
   "source": [
    "------------------------"
   ]
  },
  {
   "cell_type": "markdown",
   "metadata": {},
   "source": [
    "# Tugas 4\n",
    "Klasifikasi penilaian (sama seperti pekan lalu) tapi pakai for break dan if  (Tdk pakai else)\n",
    "\n",
    "Buatlah sistem klasifikasi nilai ujian dengan menggunakan ``while ...`` dan juga gunakan perintah ``and``.<br>\n",
    "Kriteria penilaian Ujian:<br>\n",
    "- a nilai>=80\n",
    "- b nilai 70 - 80\n",
    "- c nilai 60 - 70\n",
    "- d nilai 50 - 60\n",
    "- e nilai <50\n",
    "\n",
    "diketahu nilai ujian = ***72***"
   ]
  },
  {
   "cell_type": "code",
   "execution_count": 77,
   "metadata": {},
   "outputs": [
    {
     "name": "stdout",
     "output_type": "stream",
     "text": [
      "B\n"
     ]
    }
   ],
   "source": [
    "grade = ['E', 'D', 'C', 'B', 'A']\n",
    "score = [0, 50, 60, 70, 80,100]\n",
    "\n",
    "cur_score = 72\n",
    "cur_grade = ''\n",
    "\n",
    "for i in range(len(score)):\n",
    "    if cur_score < score[i]:\n",
    "        cur_grade = grade[i-1]\n",
    "        break\n",
    "        \n",
    "print(cur_grade)"
   ]
  },
  {
   "cell_type": "code",
   "execution_count": null,
   "metadata": {},
   "outputs": [],
   "source": []
  }
 ],
 "metadata": {
  "kernelspec": {
   "display_name": "py38",
   "language": "python",
   "name": "py38"
  },
  "language_info": {
   "codemirror_mode": {
    "name": "ipython",
    "version": 3
   },
   "file_extension": ".py",
   "mimetype": "text/x-python",
   "name": "python",
   "nbconvert_exporter": "python",
   "pygments_lexer": "ipython3",
   "version": "3.10.0"
  }
 },
 "nbformat": 4,
 "nbformat_minor": 2
}
