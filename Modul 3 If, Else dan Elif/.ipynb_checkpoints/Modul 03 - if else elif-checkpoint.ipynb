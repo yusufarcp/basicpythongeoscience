{
 "cells": [
  {
   "cell_type": "markdown",
   "metadata": {},
   "source": [
    "<img src=\"https://drive.google.com/file/d/1hLPxSnB-DmBUNkehiubROYusmtVQUHzD/view?usp=sharing\" width=\"300\" height=\"400\" align=\"right\">\n",
    "\n",
    "# Introduction to Python\n",
    "Note book ini adalah panduan untuk mempelajari Python secara umum.\n",
    "- WEEK 1: Instalasi Pycharm, Python, dan Jupyter notebook\n",
    "- WEEK 2: Pengenalan tipe data, dan operasi sederhana\n",
    "- WEEK 3: Pengenalan ***List***, ***Tuple***, ***Set***, ***Dictionary*** dan ***Array***\n",
    "- WEEK 4: Pengenalan If, Else, dan Elif\n",
    "\n",
    "\n",
    "Disusun oleh: \n",
    "- ``Epo Prasetya Kusumah, MSc - SedStrat / Teknik Geologi Universitas Pertamina``\n",
    "- ``Yusuf Arico Pratama,S.T.``"
   ]
  },
  {
   "cell_type": "markdown",
   "metadata": {},
   "source": [
    "***"
   ]
  },
  {
   "cell_type": "code",
   "execution_count": null,
   "metadata": {},
   "outputs": [],
   "source": [
    "nama = None\n",
    "nim  = None"
   ]
  },
  {
   "cell_type": "markdown",
   "metadata": {
    "tags": []
   },
   "source": [
    "# Week 3: Flow control dan fungsi\n",
    "## Daftar Isi:\n",
    "- [Console Prompt](#0)\n",
    "- [1 Penggunaan ``if...``, ``elif ...``, ``else...``](#1)\n",
    "\t- [1.1 ``if...``](#1.1)\n",
    "\t- [1.2 ``if... else ...``](#1.2)\n",
    "\t- [1.3 Nested ``if...``'s](#1.3)\n",
    "\t- [1.4 Penggunaan ``elif...``](#1.4)"
   ]
  },
  {
   "cell_type": "markdown",
   "metadata": {},
   "source": [
    "***"
   ]
  },
  {
   "cell_type": "markdown",
   "metadata": {},
   "source": [
    "## Console Prompt <a class=\"anchor\" id=\"0\"></a>\n",
    "*console prompt* dengan syntax `print()` adalah luaran visual berupa text pada console. ``print`` seringkali digunakan dalam proses *debuging*."
   ]
  },
  {
   "cell_type": "code",
   "execution_count": 4,
   "metadata": {
    "scrolled": true
   },
   "outputs": [
    {
     "name": "stdout",
     "output_type": "stream",
     "text": [
      "2\n"
     ]
    }
   ],
   "source": [
    "print(2)"
   ]
  },
  {
   "cell_type": "code",
   "execution_count": 5,
   "metadata": {},
   "outputs": [
    {
     "name": "stdout",
     "output_type": "stream",
     "text": [
      "10\n"
     ]
    }
   ],
   "source": [
    "a = 10\n",
    "print(a)"
   ]
  },
  {
   "cell_type": "code",
   "execution_count": 6,
   "metadata": {},
   "outputs": [
    {
     "name": "stdout",
     "output_type": "stream",
     "text": [
      "hello world\n"
     ]
    }
   ],
   "source": [
    "a = \"hello world\"\n",
    "print(a)"
   ]
  },
  {
   "cell_type": "code",
   "execution_count": 7,
   "metadata": {},
   "outputs": [
    {
     "data": {
      "text/plain": [
       "'hello world'"
      ]
     },
     "execution_count": 7,
     "metadata": {},
     "output_type": "execute_result"
    }
   ],
   "source": [
    "a"
   ]
  },
  {
   "cell_type": "code",
   "execution_count": 8,
   "metadata": {},
   "outputs": [
    {
     "name": "stdout",
     "output_type": "stream",
     "text": [
      "hello world\n"
     ]
    }
   ],
   "source": [
    "print(a)"
   ]
  },
  {
   "cell_type": "code",
   "execution_count": 9,
   "metadata": {},
   "outputs": [
    {
     "name": "stdout",
     "output_type": "stream",
     "text": [
      "[1, 2, 3, 4]\n"
     ]
    }
   ],
   "source": [
    "a = [1,2,3,4]\n",
    "print(a)"
   ]
  },
  {
   "cell_type": "markdown",
   "metadata": {},
   "source": [
    "# 1 Penggunaan ``if..., elif ... else...`` <a class=\"anchor\" id=\"1\"></a>\n",
    "##  1.1 ``if...`` <a class=\"anchor\" id=\"1.1\"></a>\n",
    "``if...`` digunakan dalam bahasa pemrograman digunakan unutk menjalanakan sebuah perintah dengan persyaratan sebuah persyaratan. \n",
    "Dalam python penggunaan ``if ...`` dinyataan dalam:"
   ]
  },
  {
   "cell_type": "raw",
   "metadata": {},
   "source": [
    "if (conditional):\n",
    "    (command)"
   ]
  },
  {
   "cell_type": "markdown",
   "metadata": {},
   "source": [
    "Contoh penggunaan:"
   ]
  },
  {
   "cell_type": "code",
   "execution_count": 2,
   "metadata": {},
   "outputs": [
    {
     "name": "stdout",
     "output_type": "stream",
     "text": [
      "A lbih kecil dari 10\n"
     ]
    }
   ],
   "source": [
    "a = 8\n",
    "\n",
    "if a<10:\n",
    "    print('A lbih kecil dari 10')"
   ]
  },
  {
   "cell_type": "markdown",
   "metadata": {},
   "source": [
    "## `if...` dengan multiconditional rule\n",
    "\n",
    "`if ...` multiconditional digunakan jika kode yang akan dijalankan memerlukan lebih dari 1 persyaratan. Penggabungan Persyaratan dapat menggunalan `logical operator`, contoh dari `logical operator` adalah:\n",
    "- `and ( & )`\n",
    "- `or  ( | )`\n",
    "- `not ( ~ )`\n",
    "\n",
    "penggabungan persyaratan dapat juga dilakukan dengan operator pertidaksamaan jika data berupa data numerik (`int` atau `Float`):\n",
    "- `>` Lebih besar ...\n",
    "- `>=` lebih besar sama dengan ...\n",
    "- `<` lebih kecil dengan ...\n",
    "- `<=` lebih kecil sama dengan ...\n",
    "- `==` sama dengan\n",
    "- `!=` tidak sama dengan\n"
   ]
  },
  {
   "cell_type": "raw",
   "metadata": {},
   "source": [
    "if (condition1 operator condition2):\n",
    "    (command)"
   ]
  },
  {
   "cell_type": "markdown",
   "metadata": {},
   "source": [
    "Contoh penggunaan:"
   ]
  },
  {
   "cell_type": "code",
   "execution_count": 4,
   "metadata": {},
   "outputs": [
    {
     "name": "stdout",
     "output_type": "stream",
     "text": [
      "A lbih besar dari 2 atau lebih kecil dari 10\n"
     ]
    }
   ],
   "source": [
    "a = 7\n",
    "b = 30\n",
    "\n",
    "if ((a>2) or (b<10)):\n",
    "    print('A lbih besar dari 2 atau lebih kecil dari 10')"
   ]
  },
  {
   "cell_type": "code",
   "execution_count": 5,
   "metadata": {},
   "outputs": [],
   "source": [
    "a = 7\n",
    "b = 30\n",
    "\n",
    "if ((a>2) and (b<10)):\n",
    "    print('A lbih besar dari 2 atau lebih kecil dari 10')"
   ]
  },
  {
   "cell_type": "markdown",
   "metadata": {},
   "source": []
  },
  {
   "cell_type": "markdown",
   "metadata": {},
   "source": [
    "**Exercise 1:<br>**\n",
    "\n",
    "\n",
    "Buatlah sebuah program unutk membedakan ayam jantan dan betina berdasarkan data berat dan tinggi\n",
    "```\n",
    "Jika berat > 2kg -> jantan\n",
    "atau\n",
    "jika tinggi > 25cm -> jantan\n",
    "\n",
    "lainnya betina\n",
    "\n",
    "```\n",
    "\n"
   ]
  },
  {
   "cell_type": "code",
   "execution_count": 6,
   "metadata": {},
   "outputs": [
    {
     "name": "stdout",
     "output_type": "stream",
     "text": [
      "Jantan\n"
     ]
    }
   ],
   "source": [
    "# Code here:\n",
    "berat = 5\n",
    "tinggi = 15\n",
    "\n",
    "if (berat>2) or (tinggi>25):\n",
    "    print('Jantan')\n",
    "\n",
    "\n"
   ]
  },
  {
   "cell_type": "code",
   "execution_count": null,
   "metadata": {},
   "outputs": [],
   "source": []
  },
  {
   "cell_type": "markdown",
   "metadata": {},
   "source": [
    "## 1.2 ` if... else ...` <a class=\"anchor\" id=\"1.2\"></a>\n",
    "``if ... else...`` digunaknan untuk menjalankan perintah dengan persyaratan tertentu, namun jika tidak memenuhi persyaratan akan dijalankan perintah yang terdapat pada ``else ...``\n",
    "Syntax penggunaan ``if ... else...`` adalah:\n"
   ]
  },
  {
   "cell_type": "raw",
   "metadata": {},
   "source": [
    "if (conditional):\n",
    "    (command 1)\n",
    "else:\n",
    "    (command 2)"
   ]
  },
  {
   "cell_type": "markdown",
   "metadata": {},
   "source": [
    "**note:** penggunaan titik dua ``:`` dan tabulasi pada syntax menandakan perintah yang berada dalam ``if...`` atau ``else...``"
   ]
  },
  {
   "cell_type": "markdown",
   "metadata": {},
   "source": [
    "Contoh penggunaan:"
   ]
  },
  {
   "cell_type": "code",
   "execution_count": 7,
   "metadata": {},
   "outputs": [
    {
     "name": "stdout",
     "output_type": "stream",
     "text": [
      "a lebih kecil dari 5\n"
     ]
    }
   ],
   "source": [
    "a = 4\n",
    "\n",
    "if a>5:\n",
    "    print ('a lebih besar dari 5')\n",
    "else:\n",
    "    print ('a lebih kecil dari 5')"
   ]
  },
  {
   "cell_type": "markdown",
   "metadata": {},
   "source": [
    "## 1.3 Nested ``if...``'s <a class=\"anchor\" id=\"1.3\"></a>"
   ]
  },
  {
   "cell_type": "markdown",
   "metadata": {},
   "source": [
    "Nested ``if...`` adalah perintah if di dalam if. Secara sederhana: penggunaan beberapa syarat bertingkat."
   ]
  },
  {
   "cell_type": "raw",
   "metadata": {},
   "source": [
    "if (conditional 1):\n",
    "    if (conditional 2):\n",
    "        (command)"
   ]
  },
  {
   "cell_type": "code",
   "execution_count": 9,
   "metadata": {},
   "outputs": [
    {
     "name": "stdout",
     "output_type": "stream",
     "text": [
      "duh...!!\n"
     ]
    }
   ],
   "source": [
    "## penggunaan nested if's\n",
    "a = 15\n",
    "b = 39\n",
    "\n",
    "if a>=10:\n",
    "    if b<20:\n",
    "        print('zip...!!')\n",
    "    else:\n",
    "        print('duh...!!')\n",
    "else:\n",
    "    print('dong..!!')"
   ]
  },
  {
   "cell_type": "markdown",
   "metadata": {},
   "source": [
    "**Exercise 2:<br>**\n",
    "\n",
    "Buatlah sebuah program unutk membedakan ayam jantan dan betina  serta ras nya berdasarkan data berat dan tinggi dan warna\n",
    "```\n",
    "Jika berat > 2kg -> jantan\n",
    "atau\n",
    "jika tinggi > 25cm -> jantan\n",
    "lainnya betina\n",
    "\n",
    "\n",
    "Jika warna bulu > Merah -> ayam kota\n",
    "Jika warna bulu > lainnya -> ayam kampung\n",
    "\n",
    "\n",
    "\n",
    "```\n",
    "\n"
   ]
  },
  {
   "cell_type": "code",
   "execution_count": 22,
   "metadata": {},
   "outputs": [
    {
     "name": "stdout",
     "output_type": "stream",
     "text": [
      "jantan\n",
      "ayam kota\n"
     ]
    }
   ],
   "source": [
    "# # Code here:\n",
    "\n",
    "berat = 3\n",
    "tinggi = 26\n",
    "wb = 'Merah'\n",
    "\n",
    "if ((berat>2) or (tinggi>25)):\n",
    "    print('jantan')\n",
    "    if wb=='Merah':\n",
    "        print('ayam kota')\n",
    "    else:\n",
    "        print('ayam kampung')\n",
    "else:\n",
    "    print('betina')\n",
    "\n",
    "\n"
   ]
  },
  {
   "cell_type": "code",
   "execution_count": 8,
   "metadata": {},
   "outputs": [
    {
     "name": "stdout",
     "output_type": "stream",
     "text": [
      "jantan\n",
      "ayam kota\n"
     ]
    }
   ],
   "source": [
    "# # Code here:\n",
    "\n",
    "berat = 3\n",
    "tinggi = 26\n",
    "wb = 'Merah'\n",
    "\n",
    "if ((berat>2) or (tinggi>25)):\n",
    "    print('jantan')\n",
    "    if wb=='Merah':\n",
    "        print('ayam kota')\n",
    "    else:\n",
    "        print('ayam kampung')\n",
    "elif ((berat<=2) and (tinggi<=25)):\n",
    "    print('betina')\n",
    "    if wb=='Merah':\n",
    "        print('ayam kota')\n",
    "    else:\n",
    "        print('ayam kampung')\n",
    "else:\n",
    "    print('betina')\n",
    "\n",
    "\n"
   ]
  },
  {
   "cell_type": "code",
   "execution_count": 17,
   "metadata": {},
   "outputs": [
    {
     "name": "stdout",
     "output_type": "stream",
     "text": [
      "oke\n"
     ]
    }
   ],
   "source": [
    "a =7\n",
    "\n",
    "if a>=5:\n",
    "    print('oke')"
   ]
  },
  {
   "cell_type": "markdown",
   "metadata": {},
   "source": [
    "## 1.4 Penggunaan ``elif..`` <a class=\"anchor\" id=\"1.4\"></a>"
   ]
  },
  {
   "cell_type": "markdown",
   "metadata": {},
   "source": [
    "``elif...`` digunakan jika terdapat beberapa pilihan perysaratan untuk menjalankan perintah. ``elif...`` selalu digunakan setelah *statement* ``if...``.\n",
    "<br>Syntax penulisan ``elif...`` adalah:"
   ]
  },
  {
   "cell_type": "raw",
   "metadata": {},
   "source": [
    "if(conditional 1):\n",
    "    (command 1)\n",
    "elif(conditional 2):\n",
    "    (command 2)\n",
    "else:\n",
    "    (command 3)"
   ]
  },
  {
   "cell_type": "code",
   "execution_count": 9,
   "metadata": {},
   "outputs": [
    {
     "name": "stdout",
     "output_type": "stream",
     "text": [
      "kecil\n"
     ]
    }
   ],
   "source": [
    "a = 5\n",
    "\n",
    "if a >= 15:\n",
    "    print('besar')\n",
    "elif a>=10 and a<15:\n",
    "    print('sedang')\n",
    "else:\n",
    "    print('kecil')"
   ]
  },
  {
   "cell_type": "markdown",
   "metadata": {},
   "source": [
    "**Exercise 3:<br>**\n",
    "Buatlah sistem klasifikasi nilai ujian dengan menggunakan ``if... elif.. else...`` dan juga gunakan perintah ``and``.<br>\n",
    "Kriteria penilaian Ujian:<br>\n",
    "- a nilai>=80\n",
    "- b nilai 70 - 80\n",
    "- c nilai 60 - 70\n",
    "- d nilai 50 - 60\n",
    "- e nilai <50\n",
    "\n",
    "diketahu nilai ujian = ***72***"
   ]
  },
  {
   "cell_type": "code",
   "execution_count": 10,
   "metadata": {},
   "outputs": [
    {
     "name": "stdout",
     "output_type": "stream",
     "text": [
      "B\n"
     ]
    }
   ],
   "source": [
    "# You code here\n",
    "\n",
    "nilai = 72\n",
    "\n",
    "if nilai >= 80:\n",
    "    print('A')\n",
    "elif nilai>=70 and nilai<80:\n",
    "    print('B')\n",
    "elif nilai>=60 and nilai<70:\n",
    "    print('C')\n",
    "elif nilai>=50 and nilai<60:\n",
    "    print('D')\n",
    "else:\n",
    "    print('e')\n",
    "\n",
    "\n",
    "\n",
    "\n",
    "\n",
    "\n",
    "\n",
    "\n",
    "\n",
    "\n",
    "\n",
    "\n"
   ]
  }
 ],
 "metadata": {
  "kernelspec": {
   "display_name": "py38",
   "language": "python",
   "name": "py38"
  },
  "language_info": {
   "codemirror_mode": {
    "name": "ipython",
    "version": 3
   },
   "file_extension": ".py",
   "mimetype": "text/x-python",
   "name": "python",
   "nbconvert_exporter": "python",
   "pygments_lexer": "ipython3",
   "version": "3.10.0"
  }
 },
 "nbformat": 4,
 "nbformat_minor": 4
}
