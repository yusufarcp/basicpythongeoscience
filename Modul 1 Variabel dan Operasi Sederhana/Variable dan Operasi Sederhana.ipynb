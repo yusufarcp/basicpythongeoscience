{
 "cells": [
  {
   "cell_type": "markdown",
   "metadata": {},
   "source": [
    "# Basic Python for Geoscience\n",
    "Note book ini adalah panduan untuk mempelajari Python secara umum.\n",
    "- MODUL 1: Pengenalan Variabel, operasi sederhana, dan tipe data\n",
    "\n",
    "\n",
    "\n",
    "\n",
    "\n",
    "Disusun oleh: \n",
    "- ``Epo Prasetya Kusumah, MSc - SedStrat / Teknik Geologi Universitas Pertamina``\n",
    "- ``Yusuf Arico Pratama,S.T.``\n",
    "\n",
    "Sumber Materi:\n",
    "- ``Epo Prasetya Kusumah, MSc - SedStrat / Teknik Geologi Universitas Pertamina``\n",
    "- ``mathinsight.org``"
   ]
  },
  {
   "cell_type": "markdown",
   "metadata": {},
   "source": [
    "--------------------------------------------\n",
    "--------------------------------------------\n",
    "--------------------------------------------"
   ]
  },
  {
   "cell_type": "markdown",
   "metadata": {},
   "source": [
    "# Modul 1: Pengenalan Variabel, operasi sederhana, dan tipe data\n",
    "## Daftar Isi:\n",
    "- [1 Variabel](#1)\n",
    "- [2 Operasi sederhana pada Python](#2)\n",
    "    - [2.1 Operasi Numerik](#2.1)\n",
    "    - [2.2 Operasi Relational dan Logika](#2.2)\n",
    "- [3 Data Type](#3)\n",
    "    - [3.1 Data type](#3.1)\n",
    "    - [3.2 Operasi String](#3.2)\n",
    "- [Contoh 1: Konversi Persamaan menjadi Ekpresi](#4)"
   ]
  },
  {
   "cell_type": "markdown",
   "metadata": {},
   "source": [
    "***"
   ]
  },
  {
   "cell_type": "markdown",
   "metadata": {},
   "source": [
    "# 1 Variabel <a class=\"anchor\" id=\"1\"></a>\n",
    "A ***variable*** is a quantity that may change within the context of a mathematical problem or experiment. Typically, we use a single letter to represent a ***variable***. The letters x, y, and z are common generic symbols used for ***variables***. *(mathinsight.org)*"
   ]
  },
  {
   "cell_type": "code",
   "execution_count": null,
   "metadata": {},
   "outputs": [],
   "source": [
    "x = 1"
   ]
  },
  {
   "cell_type": "code",
   "execution_count": null,
   "metadata": {},
   "outputs": [],
   "source": [
    "y = 100.42"
   ]
  },
  {
   "cell_type": "code",
   "execution_count": null,
   "metadata": {},
   "outputs": [],
   "source": [
    "z = x + y"
   ]
  },
  {
   "cell_type": "markdown",
   "metadata": {
    "tags": []
   },
   "source": [
    "# 2. Operasi sederhana pada Python <a class=\"anchor\" id=\"2\"></a>\n",
    "## 2.1 Operasi Numerik <a class=\"anchor\" id=\"first-bullet\"></a>\n",
    "Operasi aritmatik pada python dapat dilakukan dengan menggunakan simbolisasi aritmatik sederhana, seperti:\n",
    "- **``+``** - operasi penjumlahan\n",
    "- ``-`` operasi pengurangan\n",
    "- ``*`` - operasi pengalian\n",
    "- ``/`` - operasi pembagian\n",
    "- ``//`` - operasi pembagian (pembulatan kebawah)\n",
    "- ``**`` - operasi pangkat\n",
    "- ``%`` - operasi modulus"
   ]
  },
  {
   "cell_type": "code",
   "execution_count": null,
   "metadata": {},
   "outputs": [],
   "source": [
    "1 + 1"
   ]
  },
  {
   "cell_type": "code",
   "execution_count": null,
   "metadata": {},
   "outputs": [],
   "source": [
    "1 * 2"
   ]
  },
  {
   "cell_type": "code",
   "execution_count": null,
   "metadata": {},
   "outputs": [],
   "source": [
    "3**2"
   ]
  },
  {
   "cell_type": "code",
   "execution_count": null,
   "metadata": {},
   "outputs": [],
   "source": [
    "10 % 3"
   ]
  },
  {
   "cell_type": "code",
   "execution_count": null,
   "metadata": {
    "scrolled": true
   },
   "outputs": [],
   "source": [
    "(1+3)*2"
   ]
  },
  {
   "cell_type": "code",
   "execution_count": null,
   "metadata": {},
   "outputs": [],
   "source": [
    "1+3*2"
   ]
  },
  {
   "cell_type": "markdown",
   "metadata": {},
   "source": [
    "__Try it your self:__"
   ]
  },
  {
   "cell_type": "code",
   "execution_count": null,
   "metadata": {},
   "outputs": [],
   "source": [
    "\n",
    "\n",
    "\n",
    "\n",
    "\n",
    "\n"
   ]
  },
  {
   "cell_type": "markdown",
   "metadata": {},
   "source": [
    "## 2.2 Operasi Relational dan Logika <a class=\"anchor\" id=\"2.2\"></a>\n",
    "Operasi logika adalah operasi **pengujian apakah** suatu (atau himpunan) data memenuhi kriteria, berikut operasi logika yang ada di python:\n",
    "- ``>`` : lebih besar dari\n",
    "- ``<`` : kurang dari\n",
    "- ``==`` : sama dengan\n",
    "- ``!=`` : tidak sama dengan\n",
    "- ``>=`` : lebih besar sama dengan\n",
    "- ``<=`` : lebih kecil sama dengan\n",
    "\n",
    "hasil akhir dari pengujian Operasi ini adalah **``True``** dan **``False``**"
   ]
  },
  {
   "cell_type": "code",
   "execution_count": null,
   "metadata": {},
   "outputs": [],
   "source": [
    "1 == 1"
   ]
  },
  {
   "cell_type": "code",
   "execution_count": null,
   "metadata": {},
   "outputs": [],
   "source": [
    "1 < 2"
   ]
  },
  {
   "cell_type": "code",
   "execution_count": null,
   "metadata": {},
   "outputs": [],
   "source": [
    "2 >= 3"
   ]
  },
  {
   "cell_type": "code",
   "execution_count": null,
   "metadata": {},
   "outputs": [],
   "source": [
    "(2+5)*3 > 27"
   ]
  },
  {
   "cell_type": "code",
   "execution_count": null,
   "metadata": {},
   "outputs": [],
   "source": []
  },
  {
   "cell_type": "markdown",
   "metadata": {},
   "source": [
    "**Try it your self:**"
   ]
  },
  {
   "cell_type": "code",
   "execution_count": null,
   "metadata": {},
   "outputs": [],
   "source": [
    "\n",
    "\n",
    "\n",
    "\n",
    "\n",
    "\n"
   ]
  },
  {
   "cell_type": "markdown",
   "metadata": {},
   "source": [
    "***"
   ]
  },
  {
   "cell_type": "markdown",
   "metadata": {},
   "source": [
    "## 3 Data Type <a class=\"anchor\" id=\"3\"></a>\n",
    "### 3.1 Data type <a class=\"anchor\" id=\"3.1\"></a>\n",
    "Dalam python terdapat 4 jenis data container bawaan dari python, yaitu:\n",
    "- **``int``** adalah angka bulat\n",
    "    - ``5``\n",
    "    - ``1200``\n",
    "- **``float``** adalah angka desimal\n",
    "    - ``1.5``\n",
    "    - ``0.25``\n",
    "- **``str``** adalah teks, selalu diawali dengan penanda kutip `\"......\"` atau `'......'`\n",
    "    - ``'Halo..'``\n",
    "    - ``\"Saya bukan komputer...\"``\n",
    "- **``bool``** adalah tipe data yang berisi antara **`True`** dan **`False`**\n",
    "    - True\n",
    "    - False\n",
    "    \n",
    "Untuk mengetahui jenis data, dapat digunakan perintah **``type(arg)``**"
   ]
  },
  {
   "cell_type": "code",
   "execution_count": null,
   "metadata": {
    "scrolled": true
   },
   "outputs": [],
   "source": [
    "type(5)"
   ]
  },
  {
   "cell_type": "code",
   "execution_count": null,
   "metadata": {},
   "outputs": [],
   "source": [
    "type (1 + 5)"
   ]
  },
  {
   "cell_type": "code",
   "execution_count": null,
   "metadata": {},
   "outputs": [],
   "source": [
    "type(2.5)"
   ]
  },
  {
   "cell_type": "code",
   "execution_count": null,
   "metadata": {
    "scrolled": true
   },
   "outputs": [],
   "source": [
    "type (1 + 1.5)"
   ]
  },
  {
   "cell_type": "code",
   "execution_count": null,
   "metadata": {},
   "outputs": [],
   "source": [
    "type(2)"
   ]
  },
  {
   "cell_type": "code",
   "execution_count": null,
   "metadata": {},
   "outputs": [],
   "source": [
    "type (2.0)"
   ]
  },
  {
   "cell_type": "code",
   "execution_count": null,
   "metadata": {},
   "outputs": [],
   "source": [
    "type(\"Saya komputer\")"
   ]
  },
  {
   "cell_type": "code",
   "execution_count": null,
   "metadata": {},
   "outputs": [],
   "source": [
    "saya = \"saya komputer\""
   ]
  },
  {
   "cell_type": "code",
   "execution_count": null,
   "metadata": {},
   "outputs": [],
   "source": [
    "type(saya)"
   ]
  },
  {
   "cell_type": "code",
   "execution_count": null,
   "metadata": {},
   "outputs": [],
   "source": [
    "type('1')"
   ]
  },
  {
   "cell_type": "code",
   "execution_count": null,
   "metadata": {
    "scrolled": true
   },
   "outputs": [],
   "source": [
    "type(True)"
   ]
  },
  {
   "cell_type": "code",
   "execution_count": null,
   "metadata": {},
   "outputs": [],
   "source": [
    "True, False"
   ]
  },
  {
   "cell_type": "code",
   "execution_count": null,
   "metadata": {},
   "outputs": [],
   "source": [
    "1 + 2.5"
   ]
  },
  {
   "cell_type": "code",
   "execution_count": null,
   "metadata": {},
   "outputs": [],
   "source": [
    "1 + 2.25"
   ]
  },
  {
   "cell_type": "code",
   "execution_count": null,
   "metadata": {},
   "outputs": [],
   "source": [
    "1.0 + 2.25"
   ]
  },
  {
   "cell_type": "code",
   "execution_count": null,
   "metadata": {},
   "outputs": [],
   "source": [
    "int(1.2)"
   ]
  },
  {
   "cell_type": "code",
   "execution_count": null,
   "metadata": {},
   "outputs": [],
   "source": [
    "int(1.9999)"
   ]
  },
  {
   "cell_type": "code",
   "execution_count": null,
   "metadata": {},
   "outputs": [],
   "source": [
    "float(4)"
   ]
  },
  {
   "cell_type": "code",
   "execution_count": null,
   "metadata": {},
   "outputs": [],
   "source": [
    "str(4)"
   ]
  },
  {
   "cell_type": "code",
   "execution_count": null,
   "metadata": {},
   "outputs": [],
   "source": [
    "int('10')"
   ]
  },
  {
   "cell_type": "code",
   "execution_count": null,
   "metadata": {},
   "outputs": [],
   "source": [
    "float('10.0')"
   ]
  },
  {
   "cell_type": "markdown",
   "metadata": {},
   "source": [
    "**Try it your self:**"
   ]
  },
  {
   "cell_type": "code",
   "execution_count": null,
   "metadata": {},
   "outputs": [],
   "source": [
    "\n",
    "\n",
    "\n",
    "\n",
    "\n",
    "\n",
    "\n"
   ]
  },
  {
   "cell_type": "markdown",
   "metadata": {},
   "source": [
    "### 3.2 Operasi String <a class=\"anchor\" id=\"3.2\"></a>\n",
    "**String** (text) memiliki perlakuan berbeda dengan angka. Text menggunakan tanda kutip (\"  \") atau ('   ') sebagai penanda text dalam python. Terdapat beberapa operasi sederhana pada pthon. Diantaranya:\n",
    "\n",
    "- **``+``** : Operasi concatenate (penggabungan) text\n",
    "\n",
    "beberapa dari operasi memiliki syntax dalam bentuk attribute. Dinyatakan dengan memberikan titik (**``.``**) pada akhir objek. Contoh: *``objek.attribute``*). Beberapa contoh perintah dalam bentuk attribute antaralain:\n",
    "\n",
    "- **``.join(arg, arg)``** : operasi concatenate (penggabungan) text\n",
    "- **``.capitalize()``** : Menjadikan teks huruf kapital di awal kata\n",
    "- **``.upper()``** : Menjadikan teks huruf besar\n",
    "- **``.lower()``** : Menjadikan teks huruf kecil\n",
    "- **``.count(substring)``** : Menghitung banyak karakter tertentu.\n",
    "- **``.startswith(substring)``** : mencari tahu apakah suatu text diawali dengan suatu text\n",
    "- **``.endswith(substring)``** : mencari tahu apakah suatu text diakhiri dengan suatu text\n",
    "- **``.replace(old, new)``** : mengganti bagian dari text dengan text lainnya"
   ]
  },
  {
   "cell_type": "code",
   "execution_count": null,
   "metadata": {},
   "outputs": [],
   "source": [
    "z = \"yam\"\n"
   ]
  },
  {
   "cell_type": "code",
   "execution_count": null,
   "metadata": {},
   "outputs": [],
   "source": [
    "z.join(a)"
   ]
  },
  {
   "cell_type": "markdown",
   "metadata": {},
   "source": [
    "hello -> yam\n",
    "hyameyam"
   ]
  },
  {
   "cell_type": "code",
   "execution_count": null,
   "metadata": {},
   "outputs": [],
   "source": [
    "a+b"
   ]
  },
  {
   "cell_type": "code",
   "execution_count": null,
   "metadata": {},
   "outputs": [],
   "source": [
    "a + ' '+ b"
   ]
  },
  {
   "cell_type": "code",
   "execution_count": null,
   "metadata": {},
   "outputs": [],
   "source": [
    "a = \"hello\"\n",
    "b = \"world\""
   ]
  },
  {
   "cell_type": "code",
   "execution_count": null,
   "metadata": {},
   "outputs": [],
   "source": [
    "a"
   ]
  },
  {
   "cell_type": "code",
   "execution_count": null,
   "metadata": {},
   "outputs": [],
   "source": [
    "b"
   ]
  },
  {
   "cell_type": "code",
   "execution_count": null,
   "metadata": {},
   "outputs": [],
   "source": [
    "a.capitalize()"
   ]
  },
  {
   "cell_type": "code",
   "execution_count": null,
   "metadata": {},
   "outputs": [],
   "source": [
    "a.upper()"
   ]
  },
  {
   "cell_type": "code",
   "execution_count": null,
   "metadata": {},
   "outputs": [],
   "source": [
    "a.lower()"
   ]
  },
  {
   "cell_type": "code",
   "execution_count": null,
   "metadata": {},
   "outputs": [],
   "source": [
    "c = \"beberapa dari operasi memiliki syntax dalam bentuk attribute. Dinyatakan dengan memberikan titik (.) pada akhir objek. Contoh: objek.attribute). Beberapa contoh perintah dalam bentuk attribute antaralain:\""
   ]
  },
  {
   "cell_type": "code",
   "execution_count": null,
   "metadata": {},
   "outputs": [],
   "source": [
    "c"
   ]
  },
  {
   "cell_type": "code",
   "execution_count": null,
   "metadata": {},
   "outputs": [],
   "source": [
    "c.count('.')"
   ]
  },
  {
   "cell_type": "code",
   "execution_count": null,
   "metadata": {},
   "outputs": [],
   "source": [
    "d = '''The earliest known appearance of the phrase was in The Boston Journal. In an article titled \"Current Notes\" in the February 9, 1885, edition, the phrase is mentioned as a good practice sentence for writing students: \"A favorite copy set by writing teachers for their pupils is the following, because it contains every letter of the alphabet: 'A quick brown fox jumps over the lazy dog.'\"[2] Dozens of other newspapers published the phrase over the next few months, all using the version of the sentence starting with \"A\" rather than \"The\".[3] The earliest known use of the phrase starting with \"The\" is from the 1888 book Illustrative Shorthand by Linda Bronson.[4] The modern form (starting with \"The\") became more common even though it is slightly longer than the original (starting with \"A\").\n",
    "\n",
    "A 1908 edition of the Los Angeles Herald Sunday Magazine records that when the New York Herald was equipping an office with typewriters \"a few years ago\", staff found that the common practice sentence of \"now is the time for all good men to come to the aid of the party\" did not familiarize typists with the entire alphabet, and ran onto two lines in a newspaper column. They write that a staff member named Arthur F. Curtis invented the \"quick brown fox\" pangram to address this.[5]\n",
    "\n",
    "As the use of typewriters grew in the late 19th century, the phrase began appearing in typing lesson books as a practice sentence. Early examples include How to Become Expert in Typewriting: A Complete Instructor Designed Especially for the Remington Typewriter (1890),[6] and Typewriting Instructor and Stenographer's Hand-book (1892). By the turn of the 20th century, the phrase had become widely known. In the January 10, 1903, issue of Pitman's Phonetic Journal, it is referred to as \"the well known memorized typing line embracing all the letters of the alphabet\".[7] Robert Baden-Powell's book Scouting for Boys (1908) uses the phrase as a practice sentence for signaling.[1]\n",
    "\n",
    "The first message sent on the Moscow–Washington hotline on August 30, 1963, was the test phrase \"THE QUICK BROWN FOX JUMPED OVER THE LAZY DOG'S BACK 1234567890\".[8] Later, during testing, the Russian translators sent a message asking their American counterparts, \"What does it mean when your people say 'The quick brown fox jumped over the lazy dog'?\"[9]\n",
    "\n",
    "During the 20th century, technicians tested typewriters and teleprinters by typing the sentence.[10]\n",
    "\n",
    "It is the sentence used in the annual Zaner-Bloser National Handwriting Competition, a cursive writing competition which has been held in the U.S. since 1991.[11][12]\n",
    "'''"
   ]
  },
  {
   "cell_type": "code",
   "execution_count": null,
   "metadata": {},
   "outputs": [],
   "source": [
    "d"
   ]
  },
  {
   "cell_type": "code",
   "execution_count": null,
   "metadata": {},
   "outputs": [],
   "source": [
    "d.count('\\n\\n')"
   ]
  },
  {
   "cell_type": "code",
   "execution_count": null,
   "metadata": {},
   "outputs": [],
   "source": [
    "d.replace('The earliest known appearance', 'The earliest appearance')"
   ]
  },
  {
   "cell_type": "code",
   "execution_count": null,
   "metadata": {},
   "outputs": [],
   "source": [
    "(\"hello world\").capitalize()"
   ]
  },
  {
   "cell_type": "code",
   "execution_count": null,
   "metadata": {},
   "outputs": [],
   "source": [
    "(\"hello world\").replace(\"hello\", \"bye\")"
   ]
  },
  {
   "cell_type": "code",
   "execution_count": null,
   "metadata": {},
   "outputs": [],
   "source": [
    "('aku makan ayam dua kali sehari selam dua minggu'.count('dua')) * ('saya mandi satu kali dalam satu minggu').count('satu')"
   ]
  },
  {
   "cell_type": "code",
   "execution_count": null,
   "metadata": {},
   "outputs": [],
   "source": [
    "(\"hello world\").startswith('world')"
   ]
  },
  {
   "cell_type": "markdown",
   "metadata": {},
   "source": [
    "**Try it your self:**"
   ]
  },
  {
   "cell_type": "code",
   "execution_count": null,
   "metadata": {},
   "outputs": [],
   "source": [
    "\n",
    "\n",
    "\n",
    "\n",
    "\n",
    "\n",
    "\n"
   ]
  },
  {
   "cell_type": "markdown",
   "metadata": {},
   "source": [
    "________"
   ]
  },
  {
   "cell_type": "markdown",
   "metadata": {},
   "source": [
    "# Contoh 1: Konversi Persamaan menjadi Ekpresi <a class=\"anchor\" id=\"4\"></a>"
   ]
  },
  {
   "cell_type": "code",
   "execution_count": null,
   "metadata": {},
   "outputs": [],
   "source": [
    "# 1. Mengubah Persamaan kompleks menjadi Expression (10 persamaan)\n",
    "# 2. Menghitung nilai dengan persamaan yang sudah dibuat (dimasukkan element nim)\n",
    "ada = (((1-Vsh)*(Sw**2))/(F*Rw))+(Vsh/Rsh)"
   ]
  },
  {
   "cell_type": "markdown",
   "metadata": {},
   "source": [
    "\n",
    "<img src=\"https://d3i71xaburhd42.cloudfront.net/00f5bc24a8029d84dcfb837bafd804282627a678/5-Figure2-1.png\" align=\"left\" width=\"500px\">\n"
   ]
  },
  {
   "cell_type": "code",
   "execution_count": null,
   "metadata": {},
   "outputs": [],
   "source": [
    "# Masukan 3 nim terakhir jika nim 100 keatas atau 2 nim terakhir jikam nim 100 ke bawahlian\n",
    "nim = 125"
   ]
  },
  {
   "cell_type": "code",
   "execution_count": null,
   "metadata": {},
   "outputs": [],
   "source": [
    "# Nilai Berikut ini jangan ada yang dirubah\n",
    "Vsh = 0.6\n",
    "Sw = nim/100\n",
    "F = 10\n",
    "Rw = 0.4\n",
    "Rsh = 0.5\n",
    "sigma = 4\n",
    "B   = 5\n",
    "Qv  = 100\n",
    "F_star = 10\n",
    "F0   = 10\n",
    "Cbw  = 0.2\n",
    "Cw   = 0.1\n",
    "Vq  = 1\n",
    "Fsh = 2\n",
    "phi = 0.25\n",
    "phish = 0.4"
   ]
  },
  {
   "cell_type": "code",
   "execution_count": null,
   "metadata": {},
   "outputs": [],
   "source": [
    "# Kerjakan konversi persamaan disini\n",
    "poupon_et_al = (((1-Vsh)*(Sw**2))/(F*Rw))+(Vsh/Rsh)\n",
    "hossin = ((Sw**2)/(F*Rw))+((Vsh**2)/Rsh)\n",
    "simandoux = ((Sw**2)/(F*Rw))+((sigma*Vsh)/Rsh)\n",
    "waxman_and_smits = ((Sw**2)/(F_Star*Rw))+((B*Qv*Sw)/F_star)\n",
    "bardon_and_pied = ((Sw**2)/(F*Rw))+((Vsh*Sw)/Rsh)\n",
    "poupon_and_leveaux = ((Sw**2)/(F*Rw))+(2*(((Vsh**(2-Vsh))/(F*Rw*Rsh))**(1/2))*(Sw**2))+(((Vsh**(2-Vsh))*(Sw**2))/Rsh)\n",
    "schlumberger = ((Sw**2)/(F*(1-Vsh)*Rw))+((Vsh*Sw)/Rsh)\n",
    "clavier_et_al = ((Sw**2)/(F0*Rw))+(((Cbw-Cw)*Vq*Qv*Sw)/F0)\n",
    "juhasz = ((Sw**2)/(F*Rw))+(((1/(Fsh*Rsh))-(1/Rw))*((Vsh*phish*Sw)/phi))"
   ]
  }
 ],
 "metadata": {
  "kernelspec": {
   "display_name": "py38",
   "language": "python",
   "name": "py38"
  },
  "language_info": {
   "codemirror_mode": {
    "name": "ipython",
    "version": 3
   },
   "file_extension": ".py",
   "mimetype": "text/x-python",
   "name": "python",
   "nbconvert_exporter": "python",
   "pygments_lexer": "ipython3",
   "version": "3.10.0"
  }
 },
 "nbformat": 4,
 "nbformat_minor": 4
}
