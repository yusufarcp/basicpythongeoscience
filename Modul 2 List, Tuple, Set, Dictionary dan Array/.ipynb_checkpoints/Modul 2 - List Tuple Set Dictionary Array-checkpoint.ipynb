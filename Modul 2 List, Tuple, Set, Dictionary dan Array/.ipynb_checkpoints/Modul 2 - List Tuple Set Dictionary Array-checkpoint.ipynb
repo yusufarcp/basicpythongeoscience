{
 "cells": [
  {
   "cell_type": "markdown",
   "id": "f11b5ad7",
   "metadata": {},
   "source": [
    "# Basic Python for Geoscience\n",
    "Note book ini adalah panduan untuk mempelajari Python secara umum.\n",
    "- MODUL 1: Pengenalan Variabel, operasi sederhana, dan tipe data\n",
    "- MODUL 2: Pengenalan ***List***, ***Tuple***, ***Set***, ***Dictionary*** dan ***Array***\n",
    "\n",
    "\n",
    "\n",
    "Disusun oleh: \n",
    "- ``Epo Prasetya Kusumah, MSc - SedStrat / Teknik Geologi Universitas Pertamina``\n",
    "- ``Yusuf Arico Pratama,S.T.``\n",
    "\n",
    "Sumber Materi:\n",
    "- ``Epo Prasetya Kusumah, MSc - SedStrat / Teknik Geologi Universitas Pertamina``\n",
    "- ``mathinsight.org``"
   ]
  },
  {
   "cell_type": "markdown",
   "id": "e203b42c",
   "metadata": {},
   "source": [
    "# Week 03 - List Tuple Set Dictionary Array"
   ]
  },
  {
   "cell_type": "markdown",
   "id": "e4b916e0",
   "metadata": {},
   "source": [
    "## 1. List\n",
    "**`List`** adalah salah satu tipe dari data collection. Karakter dari list adalah:\n",
    "- Mutable - dapat diubah nilai masing-masing element\n",
    "- Ordered - urutan data yang dimasukkan sesuai dengan urutan pada saat list dibuat\n",
    "- Dapat menyimpan data duplikat\n",
    "\n",
    "### 1.1 List Declaration\n",
    "- List di deklarasikan dengan anotasi dengan: `vars = [value_1, value_2]`<br>contoh syntax: `list_data = [2, 5, 3, 7, 2, 1]`\n",
    "\n",
    "\n",
    "### 1.2 List Indexing and Slicing\n",
    "Indexing dan slicing adalah metode memanggil element dalam sebuah data collection. \n",
    "- **Indexing** dilakukan dengan anotasi `var[index]`<br>contoh syntax: <br>`list_data[2]` <br> Luaran:<br> `>>> 3`\n",
    "- **Slicing** dilakukan dengan anotasi `var[star_index : end_index]`. Ketentuan <a href=\"https://discuss.codecademy.com/t/why-and-how-are-selecting-python-list-indexes-inclusive-and-exclusive/431896\">inclusice - exclusive</a>\n",
    " berlaku unutuk slicing. <br>contoh syntax: <br>`list_data[2:5]` <br> Luaran:<br> `>>> [5, 3, 7, 2]`\n",
    "\n",
    "### 1.3 List Slice and Stride\n",
    "- List Slice and **Stride** adalah memanggil urutan element dalam data dengan ketentuan melongkap data. Dilakukan dengan anotasi `var[star_index : end_index : skip_every]`. <br>contoh syntax: <br>`list_data[2:5:2]` <br> Luaran:<br> `>>> [5, 7]` \n"
   ]
  },
  {
   "cell_type": "code",
   "execution_count": 1,
   "id": "d8453489",
   "metadata": {},
   "outputs": [
    {
     "data": {
      "text/plain": [
       "[5, 7, 1]"
      ]
     },
     "execution_count": 1,
     "metadata": {},
     "output_type": "execute_result"
    }
   ],
   "source": [
    "list_data = [2, 5, 3, 7, 2, 1]\n",
    "list_data[1:6:2]"
   ]
  },
  {
   "cell_type": "raw",
   "id": "c491748a",
   "metadata": {},
   "source": [
    "Tugas Part A:\n",
    "Buatlah kode pada cell code dibawah ini untuk:\n",
    "- Deklarasi list yang berisi data 2, 1, 9, 1, 3, 4 dalam variabel bernama \"var_a\"\n",
    "- Buatlah syntax untuk memanggil nilai 9 dalam var_a\n",
    "- Buatlah syntax untuk mamanggil nilai 1, 9, 1 dalam var_a\n",
    "- Buatlah syntax untuk mamanggil nilai 2, 1, 4 dalam var_a"
   ]
  },
  {
   "cell_type": "code",
   "execution_count": 10,
   "id": "35380622",
   "metadata": {},
   "outputs": [
    {
     "name": "stdout",
     "output_type": "stream",
     "text": [
      "9\n",
      "[1, 9, 1]\n",
      "[2, 1, 4]\n"
     ]
    }
   ],
   "source": [
    "var_a = [2, 1, 9, 1, 3, 4]\n",
    "print(var_a[2])\n",
    "print(var_a[1:4])\n",
    "var_a = [var_a[0],var_a[1],var_a[5]]\n",
    "print(var_a)"
   ]
  },
  {
   "cell_type": "markdown",
   "id": "b41dbe69",
   "metadata": {},
   "source": [
    "### 1.5 2d  List and Indexing\n",
    "- 2d list adalah list-in-list (list dalam list). Contoh deklarasi list 2D dengan ukurn 4 x 4 adalah: <br>\n",
    "`var_2d = [[1, 2, 3, 4],`<br>`[11, 12, 13, 14],`<br>`[21, 22, 23, 24],`<br>`[31, 32, 33, 34]] `\n",
    "- indexing pada 2d list dilakukan dengan dengan syntax: `var_2d[row][col]`. <br>Contoh syntax:<br> `var_2d[2][1]` <br> luaran: <br> `>>> 2`\n",
    "### 1.6 Function dan Methods\n",
    "- beberapa fungsi method penting:\n",
    "    - `len(list_variable)` - mencari panjang dari sebuah list\n",
    "    - `min(list_variable)` - mencari nilai **minimum** dari sebuah list\n",
    "    - `max(list_variable)` - mencari nilai **maximum** dari sebuah list\n",
    "    - `sum(list_variable)` - mencari penjumlagan dari seluruh element dalam list\n",
    "\n",
    "    - Contoh syntax:\n",
    "        - `my_list = [1, 2, 3, 4, 5, 6, 3, 2, 1]`\n",
    "        - `len(my_list)`\n",
    "        - `>>> 9`\n",
    "        - `min(my_list)`\n",
    "        - `>>> 6`\n",
    "        - `max(my_list)`\n",
    "        - `>>> 1`\n",
    "    \n",
    "- Beberapa methods pada list:\n",
    "    - `list_variable.append(new_val)` - menambahkan nilai baru `new_val` di urutan paling belakang\n",
    "    - `list_variable.insert(index, new_val)` - menambahkan nilai baru `new_val` di urutan `index`\n",
    "    - `list_variable.pop(index)` - menghapus nilai di urutan `index`\n",
    "    - `list_variable.remove(value)` - menghapus nilai `value` dalam sebuah list\n",
    "    \n",
    " \n",
    "\n",
    "### 1.7 List Operation\n",
    "- Operation yang berlaku untuk list adalah `+` dan `*` pada skalar. Proses yang terjadi pada operasi ini adalah proses *concatenation* dan *duplication*. Contoh implementasi list operation:\n",
    "    - `my_list = [1, 2, 3, 4, 5, 6, 3, 2, 1]`\n",
    "    - `my_list + my_list`\n",
    "    - `>>>[1, 2, 3, 4, 5, 6, 3, 2, 1, 1, 2, 3, 4, 5, 6, 3, 2, 1]`\n",
    "    - `my_list * 3`\n",
    "    - `>>> [1, 2, 3, 4, 5, 6, 3, 2, 1,1, 2, 3, 4, 5, 6, 3, 2, 1,1, 2, 3, 4, 5, 6, 3, 2, 1]`\n",
    "\n",
    "\n",
    "### 1.8 Mengupdate Value pada List\n",
    "- Mengganti nilai pada List dapat dilakuakn dengan metode indexing (`[ ... ]`) lalu diberikan metode assignment (`=`)\n",
    "- Contoh syntax:\n",
    "     - `my_list = [1, 2, 3, 4, 5, 6, 3, 2, 1]`\n",
    "     - `my_list[3] = 999`\n",
    "     - `print(my_list)`\n",
    "     - `>>> [1, 2, 3, 999, 5, 6, 3, 2, 1]`"
   ]
  },
  {
   "cell_type": "raw",
   "id": "8dde4db6",
   "metadata": {},
   "source": [
    "Tugas Part B:\n",
    "Buatlah kode pada cell code dibawah ini untuk:\n",
    "- Deklarasi 2d dengan isi [1, 2, 3, 4, 5, 6, 3, 2, 1], [1, 2, 3, 4, 5, 6, 3, 2, 1], [1, 2, 3, 4, 5, 6, 3, 2, 1] dengan nama variabel my_2d_list\n",
    "- Deklarasi 1d dengan isi [12, 21, 33, 45, 54, 62, 31, 23, 11] dengan nama variabel my_list\n",
    "- cari nilai max dari my_list, simpan dalam variabel max_1d\n",
    "- Cari nilai min dari my_list, simpan dalam variabel min_1d\n",
    "- Cari selisih dari nilai max dan min, simpan dalam variable data_range\n",
    "- Cari nilai rata-rata dari my_list\n",
    "- hapus element 31 pada my_list\n",
    "- tambahkan nilai 999 di akhir my_list\n",
    "- Lakukan penjumlahan antara my_list dengan my_2d_list kemudian disiman dalam variabel combined_list\n",
    "- Ubah nilai terakhir dari combined_list menjadi -999"
   ]
  },
  {
   "cell_type": "code",
   "execution_count": 31,
   "id": "b6da492d",
   "metadata": {},
   "outputs": [
    {
     "name": "stdout",
     "output_type": "stream",
     "text": [
      "my_2d_list:  [[1, 2, 3, 4, 5, 6, 3, 2, 1], [1, 2, 3, 4, 5, 6, 3, 2, 1], [1, 2, 3, 4, 5, 6, 3, 2, 1]]\n",
      "my_list:  [12, 21, 33, 45, 54, 62, 31, 23, 11]\n",
      "max_1d:  62\n",
      "min_1d:  11\n",
      "data_range:  51\n",
      "mean:  32.44444444444444\n",
      "my_list:  [12, 21, 33, 45, 54, 62, 23, 11]\n",
      "my_list:  [12, 21, 33, 45, 54, 62, 23, 11, 999]\n",
      "combined_list:  [12, 21, 33, 45, 54, 62, 23, 11, 999, [1, 2, 3, 4, 5, 6, 3, 2, 1], [1, 2, 3, 4, 5, 6, 3, 2, 1], [1, 2, 3, 4, 5, 6, 3, 2, 1]]\n",
      "combined_list:  [12, 21, 33, 45, 54, 62, 23, 11, 999, [1, 2, 3, 4, 5, 6, 3, 2, 1], [1, 2, 3, 4, 5, 6, 3, 2, 1], -999]\n"
     ]
    }
   ],
   "source": [
    "my_2d_list = [[1, 2, 3, 4, 5, 6, 3, 2, 1], [1, 2, 3, 4, 5, 6, 3, 2, 1], [1, 2, 3, 4, 5, 6, 3, 2, 1]]\n",
    "my_list = [12, 21, 33, 45, 54, 62, 31, 23, 11]\n",
    "\n",
    "print('my_2d_list: ', my_2d_list)\n",
    "print('my_list: ', my_list)\n",
    "\n",
    "#nilai Max dari my_list\n",
    "max_1d = max(my_list)\n",
    "print('max_1d: ', max_1d)\n",
    "\n",
    "#nilai Min dari my_list\n",
    "min_1d = min(my_list)\n",
    "print('min_1d: ', min_1d)\n",
    "\n",
    "#selisih nilai max dan min dari my_list\n",
    "data_range = max_1d - min_1d\n",
    "print('data_range: ', data_range)\n",
    "\n",
    "#nilai rata-rata dari my_list\n",
    "mean = sum(my_list)/len(my_list)\n",
    "print('mean: ', mean)\n",
    "\n",
    "#hapus element 31 pada my_list\n",
    "my_list.remove(31)\n",
    "print('my_list: ', my_list)\n",
    "\n",
    "#tambahkan nilai 999 di akhir my_list\n",
    "my_list.append(999)\n",
    "print('my_list: ', my_list)\n",
    "\n",
    "#Lakukan penjumlahan antara my_list dengan my_2d_list kemudian disiman dalam variabel combined_list\n",
    "combined_list = my_list + my_2d_list\n",
    "print('combined_list: ', combined_list)\n",
    "\n",
    "#Ubah nilai terakhir dari combined_list menjadi -999\n",
    "combined_list[11] = -999\n",
    "print('combined_list: ', combined_list)\n",
    "\n",
    "\n",
    "\n",
    "\n",
    "\n"
   ]
  },
  {
   "cell_type": "markdown",
   "id": "9023ea84",
   "metadata": {},
   "source": [
    "## 2. Tuple dan Set\n",
    "Tuple dan Set adalah jenis lainnya dari data collection di python. Karakterisitik dari Tuple dan Set adalah:\n",
    "- Tuple\n",
    "    - Immutable - Tidak dapa diubhan elementnya\n",
    "    - Ordered - Susunan data sama dengan urutan pada saat input data\n",
    "    - Bisa menampung data duplikat\n",
    "- Set \n",
    "    - Immutable - tidak dapat dibuah elementnya\n",
    "    - Unordered - Susuan berbeda dengan urutan pada saat input\n",
    "    - Tidak bisa menampung duplikasi\n",
    "    - Tidak dapat di-`index` ataupun di-`slice`\n",
    "    \n",
    "### 2.1 Deklarsi Tuple dan Set\n",
    "- Tuple dapat di deklarasikan dengan `( ... )`\n",
    "- Set dapat di deklarasikan dengan `{ ... }`\n",
    "- contoh syntax:\n",
    "    - `var_a = (3, 2, 1, 1, 2, 3)`\n",
    "    - `var_b = {3, 2, 1, 1, 2, 3}`\n",
    "    - `print(var_a)`\n",
    "    - `>>> (3, 2, 1, 1, 2, 3)`\n",
    "    - `print (var_b)`\n",
    "    - `>>> {1, 2, 3}`   ====> nilai yang tersimpan di memory memiliki susuan berbeda dengan input dan duplikasi di hapus\n",
    "    \n",
    "### 2.2 Indeixing Slicing dan Stride\n",
    "- Indexing dan Slicing hanay bisa dilakukan pada **Tuple**\n",
    "- Indexing dan slicing menggunakan anoasi yang sama, yaitu `var_name[ index ]` unutk indexing dan `var_name[start : stop : step]` untuk slicing striding. Sama dengan List, slicing pada tuple pun memiliki prinsip _Inclusice-exclusice_.\n",
    "- Contoh syntax:\n",
    "    - `var_a = (3, 2, 1, 1, 2, 3)`\n",
    "    - `var_b = {3, 2, 1, 1, 2, 3}`\n",
    "    - `print(var_a[3])`\n",
    "    - `>>> 1\n",
    "    - `print(var_a[3:5])`\n",
    "    - `>>> (1, 2)\n",
    "    - `print(var_b[0])`\n",
    "    - `>>> error!`     ===> error karena set tidak bisa diindex\n",
    "    \n",
    "### 2.3 Operation pada Tuple dan Set\n",
    "- Operasi `+` dan `*` hanya bisa dilakukan pada tuple\n",
    "- contoh syntax:\n",
    "    - `var_a = (3, 2, 1, 1, 2, 3)`\n",
    "    - `var_b = {3, 2, 1, 1, 2, 3}`\n",
    "    - `print(var_a + var_a)`\n",
    "    - `>>> (3, 2, 1, 1, 2, 3, 3, 2, 1, 1, 2, 3)\n",
    "    - `print(var_a*2)`\n",
    "    - `>>> (3, 2, 1, 1, 2, 3, 3, 2, 1, 1, 2, 3)\n",
    "    - `print(var_b + var_b)`\n",
    "    - `>>> error!`     ===> error karena set tidak dilakukan operasi + dan *\n",
    "\n",
    "### 2.4 Update Value Tuple dan Set\n",
    "- Update Value tidak bisa dilakukan pada Tuple dan Set\n",
    "- Jika ingin melakukan value update, tuple set harus diubah terlebih dahulu menjadi list\n",
    "- contoh syntax:\n",
    "    - `var_a = (3, 2, 1, 1, 2, 3)`\n",
    "    - `var_b = {3, 2, 1, 1, 2, 3}`\n",
    "    - `var_a[3] = 999`   ===> ! error\n",
    "    - `var_b[0] = 999`   ===> ! error\n",
    "    - `var_c = list(var_a))`   ====> konversi dari tuple menjadi list\n",
    "    - `var_d = list(var_b))`   ====> konversi dari set menjadi list\n",
    "    - `var_c[3] = 999`   \n",
    "    - `var_c[0] = 999`   \n",
    "    - `var_a = tuple(var_c)`      ====> konversi dari list menjadi tuple\n",
    "    - `var_b = set(var_d)`        ====> konversi dari list menjadi set"
   ]
  },
  {
   "cell_type": "raw",
   "id": "a26db2ce",
   "metadata": {},
   "source": [
    "Tugas Part C:\n",
    "- Buatlah tuple dan set dengan isi 2,3,5,6,3,3,1,2,2,4,5,6,7 dengan nama var_a untuk tuple dan var_b untuk list\n",
    "- konversi var_a dan var_b menjadi list, masing-masing di simpan sebagai variable var_c dan var_d\n",
    "- update index ke-3 dari var_c dan dan var_d menjadi 999\n",
    "- ubah kembali var_c dan var_d menjadi tuple dan set di dalam var_a dan var_b"
   ]
  },
  {
   "cell_type": "code",
   "execution_count": 42,
   "id": "f7eb3817",
   "metadata": {},
   "outputs": [
    {
     "name": "stdout",
     "output_type": "stream",
     "text": [
      "var_a:  (2, 3, 5, 6, 3, 3, 1, 2, 2, 4, 5, 6, 7)\n",
      "var_b:  {1, 2, 3, 4, 5, 6, 7}\n",
      "var_c:  [2, 3, 5, 6, 3, 3, 1, 2, 2, 4, 5, 6, 7]\n",
      "var_d:  [1, 2, 3, 4, 5, 6, 7]\n",
      "var_c:  [2, 3, 5, 999, 3, 3, 1, 2, 2, 4, 5, 6, 7]\n",
      "var_d:  [1, 2, 3, 999, 5, 6, 7]\n",
      "var_a:  (2, 3, 5, 999, 3, 3, 1, 2, 2, 4, 5, 6, 7)\n",
      "var_b:  {1, 2, 3, 5, 6, 999, 7}\n"
     ]
    }
   ],
   "source": [
    "#Buatlah tuple dan set dengan isi 2,3,5,6,3,3,1,2,2,4,5,6,7 dengan nama var_a untuk tuple dan var_b untuk set\n",
    "var_a = (2,3,5,6,3,3,1,2,2,4,5,6,7)\n",
    "print('var_a: ', var_a)\n",
    "var_b = {2,3,5,6,3,3,1,2,2,4,5,6,7}\n",
    "print('var_b: ', var_b)\n",
    "\n",
    "#konversi var_a dan var_b menjadi list, masing-masing di simpan sebagai variable var_c dan var_d\n",
    "var_c = list(var_a)\n",
    "print('var_c: ', var_c)\n",
    "\n",
    "var_d = list(var_b)\n",
    "print('var_d: ', var_d)\n",
    "#update index ke-3 dari var_c dan dan var_d menjadi 999\n",
    "var_c[3] = 999\n",
    "print('var_c: ', var_c)\n",
    "\n",
    "var_d[3] = 999\n",
    "print('var_d: ', var_d)\n",
    "\n",
    "#ubah kembali var_c dan var_d menjadi tuple dan set di dalam var_a dan var_b\n",
    "var_a = tuple(var_c)\n",
    "print('var_a: ', var_a)\n",
    "\n",
    "var_b = set(var_d)\n",
    "print('var_b: ', var_b)\n",
    "\n",
    "\n",
    "\n",
    "\n"
   ]
  },
  {
   "cell_type": "code",
   "execution_count": 45,
   "id": "99f1144c",
   "metadata": {},
   "outputs": [
    {
     "data": {
      "text/plain": [
       "{1, 2, 3, 5, 6, 7, 999}"
      ]
     },
     "execution_count": 45,
     "metadata": {},
     "output_type": "execute_result"
    }
   ],
   "source": [
    "# harusnya baris terakhir seperti ini (var_b harusnya berurutan)\n",
    "var_b = set(var_d)\n",
    "var_b"
   ]
  },
  {
   "cell_type": "markdown",
   "id": "374e29da",
   "metadata": {},
   "source": [
    "## 3. Dictionary\n",
    "- Dictionary adalah data collection yang memiliki pasangan key dan values\n",
    "- Key merupakan singular data type: string, integer, maupun float\n",
    "- Dict memiliki sifat *mutable, dan ordered*.\n",
    "- Values dapat berupa singular data maupun data collection\n",
    "\n",
    "### 3.1 Deklarasi Dictionary\n",
    "- Dictionary di deklarasikan dengan anotasi `{key: values}`\n",
    "- contoh syntax:\n",
    "    - `my_dict1 = {`**`'nama'`**`: 'adit'}`  \n",
    "        - **`'nama'`** sebagai key, `'adit'` sebagai value<br><br>\n",
    "    - `my_dict2 = {`**`'hobby'`**`: ['cycling', 'running']}`\n",
    "        - **`'hobby'`** sebagai key, `['cycling', 'running']` sebagai value dalam bentuk list<br><br>\n",
    "    - `my_dict3 = {`**`'nama'`**`: 'adit', `**`'hobby'`**`: ['cycling', 'running']}`\n",
    "        - **`'hobby'`** dan **`'name'`** sebagai key, `'adit' ` dan `['cycling', 'running']` sebagai value dalam bentuk list\n",
    "        \n",
    "### 3.2 Slicing pada Dictionary\n",
    "- Slicing dilakukan dengan anotasi `my_dict[key]`.\n",
    "- Jika values nya adalaha sebuah collection, maka dapat dilakukan indexing pada list dalam dictionary dengan syntax `my_dict[key][index]`\n",
    "- contoh syntax:\n",
    "    - `my_dict3 = {`**`'nama'`**`: 'adit', `**`'hobby'`**`: ['cycling', 'running']}`\n",
    "    - `my_dict3['hobby']`\n",
    "    - `>>> ['cycling', 'running']`\n",
    "    - `my_dict3['hobby'][1]`\n",
    "    - `>>> 'running'`\n",
    "    \n",
    "### 3.3 Update Nilai pada Dictionary\n",
    "- Update dapat dilakuakn degan metode dictionary indexing dan assignment. \n",
    "- Contoh syntax:\n",
    "    - `my_dict3 = {`**`'nama'`**`: 'adit', `**`'hobby'`**`: ['cycling', 'running']}`\n",
    "    - `my_dict3['hobby'] = ['cycling', 'cooking']`\n",
    "    - `my_dict3['hobby']`\n",
    "    - `>>> ['cycling', 'cooking']`\n",
    "    - `my_dict3['hobby'].append('fishing')`\n",
    "    - `my_dict3['hobby']`\n",
    "    - `>>> ['cycling', 'cooking', 'fishing']`\n",
    "    \n",
    "- Menambahkan keys pada dictionary dapat dilakukan dengan cara assignemtn pada keys baru.\n",
    "- contoh syntax:\n",
    "    - `my_dict3 = {`**`'nama'`**`: 'adit', `**`'hobby'`**`: ['cycling', 'running']}`\n",
    "    - `my_dict3['alamat'] = 'Taman Kopo Indah'`\n",
    "    - `print(my_dict3)`\n",
    "    - `>>> {`**`'nama'`**`: 'adit', `**`'hobby'`**`: ['cycling', 'running'], `**`'alamat'`**`:'Taman Kopo Indah'}`"
   ]
  },
  {
   "cell_type": "raw",
   "id": "7a5846d7",
   "metadata": {},
   "source": [
    "Tugas Part D:\n",
    "- Buatlah sebuah dictionary yang berisi tiga keys dengan nama keys 'nama' 'nim' dan 'ttl' disimpan dalam variabel data_mhs.\n",
    "- Masing-masing keys diisi dengan 5 nilai. Nama, nim, dan ttl diisi dengan nilai yang benar.\n",
    "- Tambah keys pada data_mhs dengan `kota_asal` yang diisi dengan kota asal mhs yang bersangkutan"
   ]
  },
  {
   "cell_type": "code",
   "execution_count": 52,
   "id": "8055cf83",
   "metadata": {},
   "outputs": [
    {
     "name": "stdout",
     "output_type": "stream",
     "text": [
      "data_mhs:  {'nama': '', 'nim': '', 'ttl': ''}\n",
      "data_mhs:  {'nama': ['aditya', 'muslim', 'coki', 'pardede', 'dustin'], 'nim': '', 'ttl': ''}\n",
      "data_mhs:  {'nama': ['aditya', 'muslim', 'coki', 'pardede', 'dustin'], 'nim': ['010', '012', '028', '032', '069'], 'ttl': ''}\n",
      "data_mhs:  {'nama': ['aditya', 'muslim', 'coki', 'pardede', 'dustin'], 'nim': ['010', '012', '028', '032', '069'], 'ttl': ['jakarta, 5 maret 1980', 'madura, 8 mei 1988', 'depok, 19 juni 1990', 'binjai, 16 januari 1960', 'namek, 31 februari 1945']}\n",
      "data_mhs:  {'nama': ['aditya', 'muslim', 'coki', 'pardede', 'dustin'], 'nim': ['010', '012', '028', '032', '069'], 'ttl': ['jakarta, 5 maret 1980', 'madura, 8 mei 1988', 'depok, 19 juni 1990', 'binjai, 16 januari 1960', 'namek, 31 februari 1945'], 'kota_asal': ['jepang', 'argentina', 'depok', 'jambi', 'unknown_planet']}\n"
     ]
    }
   ],
   "source": [
    "#Buatlah sebuah dictionary yang berisi tiga keys dengan nama keys 'nama' 'nim' dan 'ttl' disimpan dalam variabel data_mhs.\n",
    "data_mhs = {'nama' : '', 'nim' : '', 'ttl' : ''}\n",
    "print('data_mhs: ', data_mhs)\n",
    "\n",
    "#Masing-masing keys diisi dengan 5 nilai. Nama, nim, dan ttl diisi dengan nilai yang benar.\n",
    "data_mhs['nama'] = ['aditya', 'muslim', 'coki', 'pardede', 'dustin']\n",
    "print('data_mhs: ', data_mhs)\n",
    "\n",
    "data_mhs['nim'] = ['010', '012', '028', '032', '069']\n",
    "print('data_mhs: ', data_mhs)\n",
    "\n",
    "data_mhs['ttl'] = ['jakarta, 5 maret 1980', 'madura, 8 mei 1988', 'depok, 19 juni 1990', 'binjai, 16 januari 1960', 'namek, 31 februari 1945']\n",
    "print('data_mhs: ', data_mhs)\n",
    "\n",
    "#Tambah keys pada data_mhs dengan `kota_asal` yang diisi dengan kota asal mhs yang bersangkutan\n",
    "data_mhs['kota_asal'] = ['jepang', 'argentina', 'depok', 'jambi', 'unknown_planet']\n",
    "print('data_mhs: ', data_mhs)"
   ]
  },
  {
   "cell_type": "code",
   "execution_count": 7,
   "id": "b4a84d22",
   "metadata": {},
   "outputs": [],
   "source": [
    "import numpy as np"
   ]
  },
  {
   "cell_type": "markdown",
   "id": "a79a9f27",
   "metadata": {},
   "source": [
    "## 4. Array\n",
    "- Array bukan merupakan *built-in* function dalam python. Array adalah bagian dari **NumPy** oleh karena itu, sebelum menggunakan Array library **numpy** perlu di-import terlebih dahulu.\n",
    "- Array adalah sejenis data collection yang menyerupai Matrix dalam matematik. \n",
    "- Array memiliki sifat mutable, ordered, *bisa di lakukan operasi matematis*.\n",
    "\n",
    "### 4.1 Deklarasi Array\n",
    "- Array dapat dibuat dengan mengkonversi list, tuple, atau set menjadi numpy.array\n",
    "- contoh syntax:\n",
    "    - `import numpy as np`   ==> contoh import numpy dengan alias np\n",
    "    - `var_a = [8, 6, 4, 2, 1, 6]`\n",
    "    - `arr   = np.array(var_a)`   ==> memanggil perintah array pada alias numpy np\n",
    "    - `print(arr)`\n",
    "    - `>>> numpy.array([8, 6, 4, 2, 1, 6])`\n",
    "    \n",
    "    \n",
    "### 4.2 List Indexing, Slicing, dan Striding\n",
    "- Metode Indexing, slicing dan stiring yang berlaku di List juga berlaku di Array\n",
    "- contoh:\n",
    "    - `my_arr = np.array([1,2,3,4,5,6,6,4,3,3,2,4])`\n",
    "    - `my_arr[0]`\n",
    "    - `>>>1`\n",
    "    - `my_arr[1:5]`\n",
    "    - `>>>numpy.array([2,3,4,5])`\n",
    "    - `my_arr[::2]`\n",
    "    - `>>>[1,3,5,6,3,2]`\n",
    "    \n",
    "### 4.3 Value Update pada Array\n",
    "- Update value dapat dilakuan dengan metode indexing dan assignemnt.\n",
    "- contoh syntax:\n",
    "    - `my_arr = np.array([1,2,3,4,5,6,6,4,3,3,2,4])`\n",
    "    - `my_arr[0] = 999`\n",
    "    - `print(my_arr)`\n",
    "    - `[999,2,3,4,5,6,6,4,3,3,2,4]`\n",
    "    \n",
    "### 4.4 Operasi Matematis pada Array\n",
    "- Operasi matematis pada array dapat dilakuakan selayaknya operasi matriks dalam matematik\n",
    "- contoh syntax:\n",
    "    - `my_arr1 = np.array([1, 2, 3, 4, 5, 6, 6, 4, 3, 3, 2, 4])`\n",
    "    - `my_arr2 = np.array([[1, 2, 3],[4, 5, 6],[6, 4, 3],[3, 2, 4]])`\n",
    "    - `my_arr1 * 2` >>> `array([ 2,  4,  6,  8, 10, 12, 12,  8,  6,  6,  4,  8])`\n",
    "    - `my_arr2 * 3` >>> `array([[ 3,  6,  9], [12, 15, 18], [18, 12,  9], [ 9,  6, 12]])`\n",
    "    \n"
   ]
  },
  {
   "cell_type": "code",
   "execution_count": 53,
   "id": "3b69592b",
   "metadata": {},
   "outputs": [],
   "source": [
    "import numpy as np"
   ]
  },
  {
   "cell_type": "raw",
   "id": "aa3909f5",
   "metadata": {},
   "source": [
    "Tugas Part E:\n",
    "- Buatlah sebuah array dengan nilai [[6 0 7 4 0],[9 2 7 9 2],[5 3 3 0 1],[6 8 3 5 7]] pada variabel arr_a\n",
    "- Buatlah sebuah array dengan nilai [[8], [0], [2], [9]] pada variabel arr_b\n",
    "- Buatlah sebuah array dengan nilai [8, 0, 2, 9] pada variabel arr_c\n",
    "- Lakukan operasi penjumlahan antara arr_a dan arr_b\n",
    "- Lakukan operasi penjumlahan antara arr_a dan arr_c\n",
    "- Mengapa operasi antara arr_a dan arr_c error?  => jawab di PART FINAL"
   ]
  },
  {
   "cell_type": "code",
   "execution_count": 55,
   "id": "43f0f67d",
   "metadata": {},
   "outputs": [
    {
     "name": "stdout",
     "output_type": "stream",
     "text": [
      "arr_a:  [[6 0 7 4 0]\n",
      " [9 2 7 9 2]\n",
      " [5 3 3 0 1]\n",
      " [6 8 3 5 7]]\n",
      "arr_b:  [[8]\n",
      " [0]\n",
      " [2]\n",
      " [9]]\n",
      "arr_c:  [8 0 2 9]\n",
      "sum_ab:  [[14  8 15 12  8]\n",
      " [ 9  2  7  9  2]\n",
      " [ 7  5  5  2  3]\n",
      " [15 17 12 14 16]]\n"
     ]
    },
    {
     "ename": "ValueError",
     "evalue": "operands could not be broadcast together with shapes (4,5) (4,) ",
     "output_type": "error",
     "traceback": [
      "\u001b[1;31m---------------------------------------------------------------------------\u001b[0m",
      "\u001b[1;31mValueError\u001b[0m                                Traceback (most recent call last)",
      "Input \u001b[1;32mIn [55]\u001b[0m, in \u001b[0;36m<cell line: 18>\u001b[1;34m()\u001b[0m\n\u001b[0;32m     15\u001b[0m \u001b[38;5;28mprint\u001b[39m(\u001b[38;5;124m'\u001b[39m\u001b[38;5;124msum_ab: \u001b[39m\u001b[38;5;124m'\u001b[39m, sum_ab)\n\u001b[0;32m     17\u001b[0m \u001b[38;5;66;03m#Lakukan operasi penjumlahan antara arr_a dan arr_c\u001b[39;00m\n\u001b[1;32m---> 18\u001b[0m sum_ac \u001b[38;5;241m=\u001b[39m \u001b[43marr_a\u001b[49m\u001b[43m \u001b[49m\u001b[38;5;241;43m+\u001b[39;49m\u001b[43m \u001b[49m\u001b[43marr_c\u001b[49m\n\u001b[0;32m     19\u001b[0m \u001b[38;5;28mprint\u001b[39m(\u001b[38;5;124m'\u001b[39m\u001b[38;5;124msum_ac: \u001b[39m\u001b[38;5;124m'\u001b[39m, sum_ac)\n",
      "\u001b[1;31mValueError\u001b[0m: operands could not be broadcast together with shapes (4,5) (4,) "
     ]
    }
   ],
   "source": [
    "#Buatlah sebuah array dengan nilai [[6 0 7 4 0],[9 2 7 9 2],[5 3 3 0 1],[6 8 3 5 7]] pada variabel arr_a\n",
    "arr_a = np.array([[6,0,7,4,0], [9,2,7,9,2], [5,3,3,0,1],[6,8,3,5,7]])\n",
    "print('arr_a: ', arr_a)\n",
    "\n",
    "#Buatlah sebuah array dengan nilai [[8], [0], [2], [9]] pada variabel arr_b\n",
    "arr_b = np.array([[8], [0], [2], [9]])\n",
    "print('arr_b: ', arr_b)\n",
    "\n",
    "#Buatlah sebuah array dengan nilai [8, 0, 2, 9] pada variabel arr_c\n",
    "arr_c = np.array([8, 0, 2, 9])\n",
    "print('arr_c: ', arr_c)\n",
    "\n",
    "#Lakukan operasi penjumlahan antara arr_a dan arr_b\n",
    "sum_ab = arr_a + arr_b\n",
    "print('sum_ab: ', sum_ab)\n",
    "\n",
    "#Lakukan operasi penjumlahan antara arr_a dan arr_c\n",
    "sum_ac = arr_a + arr_c\n",
    "print('sum_ac: ', sum_ac)\n"
   ]
  },
  {
   "cell_type": "markdown",
   "id": "8d18b433",
   "metadata": {},
   "source": [
    "### Mengapa operasi antara arr_a dan arr_c error?\n",
    "\n",
    "Karena arr_a memiliki 4 buah list sedangkan arr_c hanya memiliki 1 buah list, hal ini tentunya tidak akan bisa dilakukan operasi matematis dalam array karena memiliki jumlah list yang berbeda."
   ]
  },
  {
   "cell_type": "code",
   "execution_count": null,
   "id": "0012737c",
   "metadata": {},
   "outputs": [],
   "source": []
  }
 ],
 "metadata": {
  "kernelspec": {
   "display_name": "py38",
   "language": "python",
   "name": "py38"
  },
  "language_info": {
   "codemirror_mode": {
    "name": "ipython",
    "version": 3
   },
   "file_extension": ".py",
   "mimetype": "text/x-python",
   "name": "python",
   "nbconvert_exporter": "python",
   "pygments_lexer": "ipython3",
   "version": "3.10.0"
  }
 },
 "nbformat": 4,
 "nbformat_minor": 5
}
